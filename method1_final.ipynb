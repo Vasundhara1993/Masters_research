{
 "cells": [
  {
   "cell_type": "code",
   "execution_count": 1,
   "metadata": {},
   "outputs": [
    {
     "name": "stdout",
     "output_type": "stream",
     "text": [
      "Welcome to JupyROOT 6.22/02\n"
     ]
    },
    {
     "data": {
      "text/plain": [
       "0"
      ]
     },
     "execution_count": 1,
     "metadata": {},
     "output_type": "execute_result"
    }
   ],
   "source": [
    "import numpy as np\n",
    "import matplotlib.pyplot as plt\n",
    "import ROOT\n",
    "import os\n",
    "# ROOT.enableJSVis()\n",
    "c1 = ROOT.TCanvas()\n",
    "c1.SetWindowSize(600,600);\n",
    "c1.SetCanvasSize(330,510);\n",
    "ROOT.gSystem.Load(\"/home/vasu/quadis/build/lib/libquadis.so\")"
   ]
  },
  {
   "cell_type": "code",
   "execution_count": 2,
   "metadata": {},
   "outputs": [],
   "source": [
    "R_true = []\n",
    "Z_true = []\n",
    "Rrms = []\n",
    "Zrms = []\n",
    "folder = \"/home/vasu/PPC/PPC_SigGen/arrays/60kev-right\"\n",
    "for file in os.listdir(folder):\n",
    "    filepath = os.path.join(folder,file)\n",
    "    f = open(filepath,'r')\n",
    "    line = f.readline()\n",
    "    while (line != ''):\n",
    "        line = line.strip(\"\\n\").split(\"\\t\")\n",
    "        R_true.append(int(line[0]))\n",
    "        Rrms.append(float(line[1]))\n",
    "        Z_true.append(int(line[2]))\n",
    "        Zrms.append(float(line[3]))\n",
    "        line = f.readline()\n",
    "    f.close()"
   ]
  },
  {
   "cell_type": "code",
   "execution_count": 3,
   "metadata": {},
   "outputs": [],
   "source": [
    "# print len(Rrms)"
   ]
  },
  {
   "cell_type": "code",
   "execution_count": 4,
   "metadata": {},
   "outputs": [],
   "source": [
    "hrRMS = ROOT.TH2F(\"hrRMS\",\"hrRMS\",33,0,33,51,0,51)\n",
    "hzRMS = ROOT.TH2F(\"hzRMS\",\"hzRMS\",33,0,33,51,0,51)\n",
    "hrRMS.GetXaxis().SetTitle(\"R\")\n",
    "hrRMS.GetYaxis().SetTitle(\"Z\")\n",
    "hzRMS.GetXaxis().SetTitle(\"R\")\n",
    "hzRMS.GetYaxis().SetTitle(\"Z\")\n",
    "h1XR = hrRMS.GetXaxis().GetBinWidth(1)\n",
    "h2YR = hrRMS.GetYaxis().GetBinWidth(1)\n",
    "h1XZ = hzRMS.GetXaxis().GetBinWidth(1)\n",
    "h2YZ = hzRMS.GetYaxis().GetBinWidth(1)\n",
    "\n",
    "for i in range (len(R_true)):\n",
    "    hrRMS.SetBinContent(int(R_true[i]/h1XR),int(Z_true[i]/h2YR),Rrms[i])\n",
    "    hzRMS.SetBinContent(int(R_true[i]/h1XZ),int(Z_true[i]/h2YZ),Zrms[i])\n",
    "# hrRMS.SetBinContent(4,9,0.0420370075053)\n",
    "# hzRMS.SetBinContent(4,9,0.0258516924011)"
   ]
  },
  {
   "cell_type": "code",
   "execution_count": 5,
   "metadata": {
    "scrolled": false
   },
   "outputs": [
    {
     "data": {
      "image/png": "[encoded data removed]",
      "text/plain": [
       "<IPython.core.display.Image object>"
      ]
     },
     "metadata": {},
     "output_type": "display_data"
    }
   ],
   "source": [
    "hrRMS.Draw(\"colz\")\n",
    "hrRMS.SetMaximum(10)\n",
    "hrRMS.SetMinimum(0)\n",
    "hrRMS.GetXaxis().SetLabelSize(0.06)\n",
    "hrRMS.GetYaxis().SetLabelSize(0.06)\n",
    "hrRMS.GetXaxis().SetTitleSize(444)\n",
    "hrRMS.GetYaxis().SetTitleSize(444)\n",
    "hrRMS.GetZaxis().SetLabelSize(0.05)\n",
    "hrRMS.SetStats(0)\n",
    "c1.SetRightMargin(0.2)\n",
    "c1.Draw()"
   ]
  },
  {
   "cell_type": "code",
   "execution_count": 6,
   "metadata": {},
   "outputs": [
    {
     "data": {
      "image/png": "[encoded data removed]",
      "text/plain": [
       "<IPython.core.display.Image object>"
      ]
     },
     "metadata": {},
     "output_type": "display_data"
    }
   ],
   "source": [
    "hzRMS.Draw(\"colz\")\n",
    "hzRMS.SetMaximum(10)\n",
    "hzRMS.SetMinimum(0)\n",
    "hzRMS.GetXaxis().SetLabelSize(0.06)\n",
    "hzRMS.GetYaxis().SetLabelSize(0.06)\n",
    "hzRMS.GetXaxis().SetTitleSize(444)\n",
    "hzRMS.GetYaxis().SetTitleSize(444)\n",
    "hzRMS.GetZaxis().SetLabelSize(0.05)\n",
    "hzRMS.SetStats(0)\n",
    "c1.SetRightMargin(0.2)\n",
    "c1.Draw()"
   ]
  },
  {
   "cell_type": "code",
   "execution_count": null,
   "metadata": {},
   "outputs": [],
   "source": []
  },
  {
   "cell_type": "code",
   "execution_count": null,
   "metadata": {},
   "outputs": [],
   "source": []
  }
 ],
 "metadata": {
  "kernelspec": {
   "display_name": "Python 3",
   "language": "python",
   "name": "python3"
  },
  "language_info": {
   "codemirror_mode": {
    "name": "ipython",
    "version": 3
   },
   "file_extension": ".py",
   "mimetype": "text/x-python",
   "name": "python",
   "nbconvert_exporter": "python",
   "pygments_lexer": "ipython3",
   "version": "3.8.8"
  }
 },
 "nbformat": 4,
 "nbformat_minor": 2
}
