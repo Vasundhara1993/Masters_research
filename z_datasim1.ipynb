{
 "cells": [
  {
   "cell_type": "code",
   "execution_count": 1,
   "metadata": {},
   "outputs": [
    {
     "name": "stdout",
     "output_type": "stream",
     "text": [
      "Welcome to JupyROOT 6.22/02\n"
     ]
    }
   ],
   "source": [
    "import JupyROOT\n",
    "JupyROOT.helpers.utils._jsROOTSourceDir = 'https://root.cern.ch/js/notebook/'\n",
    "import numpy as np\n",
    "import matplotlib.pyplot as plt\n",
    "import ROOT\n",
    "import os\n",
    "import time\n",
    "import math\n",
    "# ROOT.enableJSVis()\n",
    "c1 = ROOT.TCanvas()\n",
    "ROOT.gSystem.Load(\"/home/vasu/quadis/build/lib/libquadis.so\")\n",
    "import pandas as pd"
   ]
  },
  {
   "cell_type": "code",
   "execution_count": 2,
   "metadata": {},
   "outputs": [],
   "source": [
    "bigdata = pd.DataFrame()\n",
    "folder = \"/home/vasu/PPC/PPC_SigGen/arrays/zscan_ra\"\n",
    "for file in os.listdir(folder):\n",
    "    filepath = os.path.join(folder,file)\n",
    "    df = pd.read_csv(filepath,header=None,sep='\\t')\n",
    "    bigdata = bigdata.append(df,ignore_index=True)"
   ]
  },
  {
   "cell_type": "code",
   "execution_count": 3,
   "metadata": {},
   "outputs": [],
   "source": [
    "bigdata60 = pd.DataFrame()\n",
    "folder = \"/home/vasu/PPC/PPC_SigGen/arrays/zscan_libmodel\"\n",
    "for file in os.listdir(folder):\n",
    "    filepath = os.path.join(folder,file)\n",
    "    df = pd.read_csv(filepath,header=None,sep='\\t')\n",
    "    bigdata60 = bigdata60.append(df,ignore_index=True)"
   ]
  },
  {
   "cell_type": "code",
   "execution_count": 4,
   "metadata": {},
   "outputs": [],
   "source": [
    "bigdata1 = pd.DataFrame()\n",
    "folder = \"/home/vasu/PPC/PPC_SigGen/arrays/zscan_new\"\n",
    "for file in os.listdir(folder):\n",
    "    filepath = os.path.join(folder,file)\n",
    "    df = pd.read_csv(filepath,header=None,sep='\\t')\n",
    "    bigdata1 = bigdata1.append(df,ignore_index=True)"
   ]
  },
  {
   "cell_type": "code",
   "execution_count": 5,
   "metadata": {},
   "outputs": [],
   "source": [
    "index_names = bigdata[(bigdata[1] == -1)].index #drop with Ztrue = -1\n",
    "bigdata = bigdata.drop(index_names)\n",
    "bigdata = bigdata.reset_index(drop=True)\n",
    "num = bigdata.shape[0]"
   ]
  },
  {
   "cell_type": "code",
   "execution_count": 6,
   "metadata": {},
   "outputs": [],
   "source": [
    "num60 = bigdata60.shape[0]"
   ]
  },
  {
   "cell_type": "code",
   "execution_count": 7,
   "metadata": {},
   "outputs": [],
   "source": [
    "index_names1 = bigdata1[(bigdata1[1] == -1)].index #drop with Ztrue = -1\n",
    "bigdata1 = bigdata1.drop(index_names1)\n",
    "bigdata1 = bigdata1.reset_index(drop=True)\n",
    "num1 = bigdata1.shape[0]"
   ]
  },
  {
   "cell_type": "code",
   "execution_count": 8,
   "metadata": {},
   "outputs": [],
   "source": [
    "trueZ = np.zeros(num)\n",
    "valZ = np.zeros(num)\n",
    "for i in range (num):\n",
    "    trueZ[i] = bigdata[1][i]\n",
    "    valZ[i] = bigdata[1][i] - bigdata[0][i]"
   ]
  },
  {
   "cell_type": "code",
   "execution_count": 9,
   "metadata": {},
   "outputs": [],
   "source": [
    "trueZ60 = np.zeros(num60)\n",
    "fitZ60 = np.zeros(num60)\n",
    "for i in range (num60):\n",
    "    trueZ60[i] = bigdata60[1][i]\n",
    "    fitZ60[i] = bigdata60[1][i] - bigdata60[0][i]"
   ]
  },
  {
   "cell_type": "code",
   "execution_count": 10,
   "metadata": {},
   "outputs": [],
   "source": [
    "trueZ1 = np.zeros(num)\n",
    "valZ1 = np.zeros(num)\n",
    "for i in range (num):\n",
    "    trueZ1[i] = bigdata1[1][i]\n",
    "    valZ1[i] = bigdata1[1][i] - bigdata1[0][i]"
   ]
  },
  {
   "cell_type": "code",
   "execution_count": 11,
   "metadata": {},
   "outputs": [
    {
     "name": "stderr",
     "output_type": "stream",
     "text": [
      "Warning in <TROOT::Append>: Replacing existing TH1: hz (Potential memory leak).\n",
      "Warning in <TROOT::Append>: Replacing existing TH1: hz (Potential memory leak).\n",
      "Warning in <TROOT::Append>: Replacing existing TH1: hz (Potential memory leak).\n",
      "Warning in <TROOT::Append>: Replacing existing TH1: hz (Potential memory leak).\n",
      "Warning in <TROOT::Append>: Replacing existing TH1: hz (Potential memory leak).\n",
      "Warning in <TROOT::Append>: Replacing existing TH1: hz (Potential memory leak).\n",
      "Warning in <TROOT::Append>: Replacing existing TH1: hz (Potential memory leak).\n",
      "Warning in <TROOT::Append>: Replacing existing TH1: hz (Potential memory leak).\n",
      "Warning in <TROOT::Append>: Replacing existing TH1: hz (Potential memory leak).\n",
      "Warning in <TROOT::Append>: Replacing existing TH1: hz (Potential memory leak).\n",
      "Warning in <TROOT::Append>: Replacing existing TH1: hz (Potential memory leak).\n",
      "Warning in <TROOT::Append>: Replacing existing TH1: hz (Potential memory leak).\n",
      "Warning in <TROOT::Append>: Replacing existing TH1: hz (Potential memory leak).\n",
      "Warning in <TROOT::Append>: Replacing existing TH1: hz (Potential memory leak).\n",
      "Warning in <TROOT::Append>: Replacing existing TH1: hz (Potential memory leak).\n",
      "Warning in <TROOT::Append>: Replacing existing TH1: hz (Potential memory leak).\n",
      "Warning in <TROOT::Append>: Replacing existing TH1: hz (Potential memory leak).\n",
      "Warning in <TROOT::Append>: Replacing existing TH1: hz (Potential memory leak).\n",
      "Warning in <TROOT::Append>: Replacing existing TH1: hz (Potential memory leak).\n",
      "Warning in <TROOT::Append>: Replacing existing TH1: hz (Potential memory leak).\n",
      "Warning in <TROOT::Append>: Replacing existing TH1: hz (Potential memory leak).\n",
      "Warning in <TROOT::Append>: Replacing existing TH1: hz (Potential memory leak).\n",
      "Warning in <TROOT::Append>: Replacing existing TH1: hz (Potential memory leak).\n",
      "Warning in <TROOT::Append>: Replacing existing TH1: hz (Potential memory leak).\n",
      "Warning in <TROOT::Append>: Replacing existing TH1: hz (Potential memory leak).\n",
      "Warning in <TROOT::Append>: Replacing existing TH1: hz (Potential memory leak).\n",
      "Warning in <TROOT::Append>: Replacing existing TH1: hz (Potential memory leak).\n",
      "Warning in <TROOT::Append>: Replacing existing TH1: hz (Potential memory leak).\n",
      "Warning in <TROOT::Append>: Replacing existing TH1: hz (Potential memory leak).\n",
      "Warning in <TROOT::Append>: Replacing existing TH1: hz (Potential memory leak).\n",
      "Warning in <TROOT::Append>: Replacing existing TH1: hz (Potential memory leak).\n",
      "Warning in <TROOT::Append>: Replacing existing TH1: hz (Potential memory leak).\n",
      "Warning in <TROOT::Append>: Replacing existing TH1: hz (Potential memory leak).\n",
      "Warning in <TROOT::Append>: Replacing existing TH1: hz (Potential memory leak).\n",
      "Warning in <TROOT::Append>: Replacing existing TH1: hz (Potential memory leak).\n",
      "Warning in <TROOT::Append>: Replacing existing TH1: hz (Potential memory leak).\n",
      "Warning in <TROOT::Append>: Replacing existing TH1: hz (Potential memory leak).\n",
      "Warning in <TROOT::Append>: Replacing existing TH1: hz (Potential memory leak).\n",
      "Warning in <TROOT::Append>: Replacing existing TH1: hz (Potential memory leak).\n",
      "Warning in <TROOT::Append>: Replacing existing TH1: hz (Potential memory leak).\n",
      "Warning in <TROOT::Append>: Replacing existing TH1: hz (Potential memory leak).\n",
      "Warning in <TROOT::Append>: Replacing existing TH1: hz (Potential memory leak).\n",
      "Warning in <TROOT::Append>: Replacing existing TH1: hz (Potential memory leak).\n",
      "Warning in <TROOT::Append>: Replacing existing TH1: hz (Potential memory leak).\n",
      "Warning in <TROOT::Append>: Replacing existing TH1: hz (Potential memory leak).\n",
      "Warning in <TROOT::Append>: Replacing existing TH1: hz (Potential memory leak).\n",
      "Warning in <TROOT::Append>: Replacing existing TH1: hz (Potential memory leak).\n",
      "Warning in <TROOT::Append>: Replacing existing TH1: hz (Potential memory leak).\n",
      "Warning in <TROOT::Append>: Replacing existing TH1: hz (Potential memory leak).\n"
     ]
    }
   ],
   "source": [
    "stdZ = []\n",
    "meanZ = []\n",
    "Z0 = []\n",
    "for i in range (num):\n",
    "    if ((i%1000)==0):\n",
    "        Z0.append(trueZ[i])\n",
    "        hz = ROOT.TH1F(\"hz\",\"hz\",300,-60,60)\n",
    "        for j in range (1000):\n",
    "            hz.Fill(valZ[i+j])        \n",
    "        stdZ.append(hz.GetStdDev())\n",
    "        meanZ.append(hz.GetMean())\n",
    "        hz.Reset()"
   ]
  },
  {
   "cell_type": "code",
   "execution_count": 12,
   "metadata": {},
   "outputs": [
    {
     "name": "stderr",
     "output_type": "stream",
     "text": [
      "Warning in <TROOT::Append>: Replacing existing TH1: hz (Potential memory leak).\n",
      "Warning in <TROOT::Append>: Replacing existing TH1: hz (Potential memory leak).\n",
      "Warning in <TROOT::Append>: Replacing existing TH1: hz (Potential memory leak).\n",
      "Warning in <TROOT::Append>: Replacing existing TH1: hz (Potential memory leak).\n",
      "Warning in <TROOT::Append>: Replacing existing TH1: hz (Potential memory leak).\n",
      "Warning in <TROOT::Append>: Replacing existing TH1: hz (Potential memory leak).\n",
      "Warning in <TROOT::Append>: Replacing existing TH1: hz (Potential memory leak).\n",
      "Warning in <TROOT::Append>: Replacing existing TH1: hz (Potential memory leak).\n",
      "Warning in <TROOT::Append>: Replacing existing TH1: hz (Potential memory leak).\n",
      "Warning in <TROOT::Append>: Replacing existing TH1: hz (Potential memory leak).\n",
      "Warning in <TROOT::Append>: Replacing existing TH1: hz (Potential memory leak).\n",
      "Warning in <TROOT::Append>: Replacing existing TH1: hz (Potential memory leak).\n",
      "Warning in <TROOT::Append>: Replacing existing TH1: hz (Potential memory leak).\n",
      "Warning in <TROOT::Append>: Replacing existing TH1: hz (Potential memory leak).\n",
      "Warning in <TROOT::Append>: Replacing existing TH1: hz (Potential memory leak).\n",
      "Warning in <TROOT::Append>: Replacing existing TH1: hz (Potential memory leak).\n",
      "Warning in <TROOT::Append>: Replacing existing TH1: hz (Potential memory leak).\n",
      "Warning in <TROOT::Append>: Replacing existing TH1: hz (Potential memory leak).\n",
      "Warning in <TROOT::Append>: Replacing existing TH1: hz (Potential memory leak).\n",
      "Warning in <TROOT::Append>: Replacing existing TH1: hz (Potential memory leak).\n",
      "Warning in <TROOT::Append>: Replacing existing TH1: hz (Potential memory leak).\n",
      "Warning in <TROOT::Append>: Replacing existing TH1: hz (Potential memory leak).\n",
      "Warning in <TROOT::Append>: Replacing existing TH1: hz (Potential memory leak).\n",
      "Warning in <TROOT::Append>: Replacing existing TH1: hz (Potential memory leak).\n",
      "Warning in <TROOT::Append>: Replacing existing TH1: hz (Potential memory leak).\n",
      "Warning in <TROOT::Append>: Replacing existing TH1: hz (Potential memory leak).\n",
      "Warning in <TROOT::Append>: Replacing existing TH1: hz (Potential memory leak).\n",
      "Warning in <TROOT::Append>: Replacing existing TH1: hz (Potential memory leak).\n",
      "Warning in <TROOT::Append>: Replacing existing TH1: hz (Potential memory leak).\n",
      "Warning in <TROOT::Append>: Replacing existing TH1: hz (Potential memory leak).\n",
      "Warning in <TROOT::Append>: Replacing existing TH1: hz (Potential memory leak).\n",
      "Warning in <TROOT::Append>: Replacing existing TH1: hz (Potential memory leak).\n",
      "Warning in <TROOT::Append>: Replacing existing TH1: hz (Potential memory leak).\n",
      "Warning in <TROOT::Append>: Replacing existing TH1: hz (Potential memory leak).\n",
      "Warning in <TROOT::Append>: Replacing existing TH1: hz (Potential memory leak).\n",
      "Warning in <TROOT::Append>: Replacing existing TH1: hz (Potential memory leak).\n",
      "Warning in <TROOT::Append>: Replacing existing TH1: hz (Potential memory leak).\n",
      "Warning in <TROOT::Append>: Replacing existing TH1: hz (Potential memory leak).\n",
      "Warning in <TROOT::Append>: Replacing existing TH1: hz (Potential memory leak).\n",
      "Warning in <TROOT::Append>: Replacing existing TH1: hz (Potential memory leak).\n",
      "Warning in <TROOT::Append>: Replacing existing TH1: hz (Potential memory leak).\n",
      "Warning in <TROOT::Append>: Replacing existing TH1: hz (Potential memory leak).\n",
      "Warning in <TROOT::Append>: Replacing existing TH1: hz (Potential memory leak).\n",
      "Warning in <TROOT::Append>: Replacing existing TH1: hz (Potential memory leak).\n",
      "Warning in <TROOT::Append>: Replacing existing TH1: hz (Potential memory leak).\n",
      "Warning in <TROOT::Append>: Replacing existing TH1: hz (Potential memory leak).\n",
      "Warning in <TROOT::Append>: Replacing existing TH1: hz (Potential memory leak).\n",
      "Warning in <TROOT::Append>: Replacing existing TH1: hz (Potential memory leak).\n",
      "Warning in <TROOT::Append>: Replacing existing TH1: hz (Potential memory leak).\n",
      "Warning in <TROOT::Append>: Replacing existing TH1: hz (Potential memory leak).\n"
     ]
    }
   ],
   "source": [
    "stdZ60 = []\n",
    "meanZ60 = []\n",
    "Z060 = []\n",
    "for i in range (num60):\n",
    "    if ((i%1000)==0):\n",
    "        Z060.append(trueZ60[i])\n",
    "        hz = ROOT.TH1F(\"hz\",\"hz\",300,-60,60)\n",
    "        for j in range (1000):\n",
    "            hz.Fill(fitZ60[i+j])        \n",
    "        stdZ60.append(hz.GetStdDev())\n",
    "        meanZ60.append(hz.GetMean())\n",
    "        hz.Reset()"
   ]
  },
  {
   "cell_type": "code",
   "execution_count": 13,
   "metadata": {},
   "outputs": [
    {
     "name": "stderr",
     "output_type": "stream",
     "text": [
      "Warning in <TROOT::Append>: Replacing existing TH1: hz (Potential memory leak).\n",
      "Warning in <TROOT::Append>: Replacing existing TH1: hz (Potential memory leak).\n",
      "Warning in <TROOT::Append>: Replacing existing TH1: hz (Potential memory leak).\n",
      "Warning in <TROOT::Append>: Replacing existing TH1: hz (Potential memory leak).\n",
      "Warning in <TROOT::Append>: Replacing existing TH1: hz (Potential memory leak).\n",
      "Warning in <TROOT::Append>: Replacing existing TH1: hz (Potential memory leak).\n",
      "Warning in <TROOT::Append>: Replacing existing TH1: hz (Potential memory leak).\n",
      "Warning in <TROOT::Append>: Replacing existing TH1: hz (Potential memory leak).\n",
      "Warning in <TROOT::Append>: Replacing existing TH1: hz (Potential memory leak).\n",
      "Warning in <TROOT::Append>: Replacing existing TH1: hz (Potential memory leak).\n",
      "Warning in <TROOT::Append>: Replacing existing TH1: hz (Potential memory leak).\n",
      "Warning in <TROOT::Append>: Replacing existing TH1: hz (Potential memory leak).\n",
      "Warning in <TROOT::Append>: Replacing existing TH1: hz (Potential memory leak).\n",
      "Warning in <TROOT::Append>: Replacing existing TH1: hz (Potential memory leak).\n",
      "Warning in <TROOT::Append>: Replacing existing TH1: hz (Potential memory leak).\n",
      "Warning in <TROOT::Append>: Replacing existing TH1: hz (Potential memory leak).\n",
      "Warning in <TROOT::Append>: Replacing existing TH1: hz (Potential memory leak).\n",
      "Warning in <TROOT::Append>: Replacing existing TH1: hz (Potential memory leak).\n",
      "Warning in <TROOT::Append>: Replacing existing TH1: hz (Potential memory leak).\n",
      "Warning in <TROOT::Append>: Replacing existing TH1: hz (Potential memory leak).\n",
      "Warning in <TROOT::Append>: Replacing existing TH1: hz (Potential memory leak).\n",
      "Warning in <TROOT::Append>: Replacing existing TH1: hz (Potential memory leak).\n",
      "Warning in <TROOT::Append>: Replacing existing TH1: hz (Potential memory leak).\n",
      "Warning in <TROOT::Append>: Replacing existing TH1: hz (Potential memory leak).\n",
      "Warning in <TROOT::Append>: Replacing existing TH1: hz (Potential memory leak).\n",
      "Warning in <TROOT::Append>: Replacing existing TH1: hz (Potential memory leak).\n",
      "Warning in <TROOT::Append>: Replacing existing TH1: hz (Potential memory leak).\n",
      "Warning in <TROOT::Append>: Replacing existing TH1: hz (Potential memory leak).\n",
      "Warning in <TROOT::Append>: Replacing existing TH1: hz (Potential memory leak).\n",
      "Warning in <TROOT::Append>: Replacing existing TH1: hz (Potential memory leak).\n",
      "Warning in <TROOT::Append>: Replacing existing TH1: hz (Potential memory leak).\n",
      "Warning in <TROOT::Append>: Replacing existing TH1: hz (Potential memory leak).\n",
      "Warning in <TROOT::Append>: Replacing existing TH1: hz (Potential memory leak).\n",
      "Warning in <TROOT::Append>: Replacing existing TH1: hz (Potential memory leak).\n",
      "Warning in <TROOT::Append>: Replacing existing TH1: hz (Potential memory leak).\n",
      "Warning in <TROOT::Append>: Replacing existing TH1: hz (Potential memory leak).\n",
      "Warning in <TROOT::Append>: Replacing existing TH1: hz (Potential memory leak).\n",
      "Warning in <TROOT::Append>: Replacing existing TH1: hz (Potential memory leak).\n",
      "Warning in <TROOT::Append>: Replacing existing TH1: hz (Potential memory leak).\n",
      "Warning in <TROOT::Append>: Replacing existing TH1: hz (Potential memory leak).\n",
      "Warning in <TROOT::Append>: Replacing existing TH1: hz (Potential memory leak).\n",
      "Warning in <TROOT::Append>: Replacing existing TH1: hz (Potential memory leak).\n",
      "Warning in <TROOT::Append>: Replacing existing TH1: hz (Potential memory leak).\n",
      "Warning in <TROOT::Append>: Replacing existing TH1: hz (Potential memory leak).\n",
      "Warning in <TROOT::Append>: Replacing existing TH1: hz (Potential memory leak).\n",
      "Warning in <TROOT::Append>: Replacing existing TH1: hz (Potential memory leak).\n",
      "Warning in <TROOT::Append>: Replacing existing TH1: hz (Potential memory leak).\n",
      "Warning in <TROOT::Append>: Replacing existing TH1: hz (Potential memory leak).\n",
      "Warning in <TROOT::Append>: Replacing existing TH1: hz (Potential memory leak).\n",
      "Warning in <TROOT::Append>: Replacing existing TH1: hz (Potential memory leak).\n"
     ]
    }
   ],
   "source": [
    "stdZ1 = []\n",
    "meanZ1 = []\n",
    "Z01 = []\n",
    "for i in range (num):\n",
    "    if ((i%1000)==0):\n",
    "        Z01.append(trueZ1[i])\n",
    "        hz = ROOT.TH1F(\"hz\",\"hz\",300,-60,60)\n",
    "        for j in range (1000):\n",
    "            hz.Fill(valZ1[i+j])        \n",
    "        stdZ1.append(hz.GetStdDev())\n",
    "        meanZ1.append(hz.GetMean())\n",
    "        hz.Reset()"
   ]
  },
  {
   "cell_type": "code",
   "execution_count": 14,
   "metadata": {},
   "outputs": [],
   "source": [
    "Z = np.array(Z0)\n",
    "std = np.array(np.true_divide(stdZ,math.sqrt(1000)))\n",
    "mean = np.array(meanZ)\n",
    "errorsX = np.zeros(len(stdZ),dtype='float')"
   ]
  },
  {
   "cell_type": "code",
   "execution_count": 15,
   "metadata": {},
   "outputs": [],
   "source": [
    "std60 = np.array(stdZ60)\n",
    "mean60 = np.array(meanZ60)\n",
    "Z60 = np.array(Z060)\n",
    "errorsX60 = np.zeros(int(num60/1000),dtype='float')\n",
    "errorsY60 = np.array(np.true_divide(std60,math.sqrt(1000)))"
   ]
  },
  {
   "cell_type": "code",
   "execution_count": 16,
   "metadata": {},
   "outputs": [],
   "source": [
    "Z1 = np.array(Z01)\n",
    "std1 = np.array(np.true_divide(stdZ1,math.sqrt(1000)))\n",
    "mean1 = np.array(meanZ1)\n",
    "errorsX1 = np.zeros(len(stdZ1),dtype='float')"
   ]
  },
  {
   "cell_type": "code",
   "execution_count": 17,
   "metadata": {},
   "outputs": [
    {
     "data": {
      "image/png": "[encoded data removed]",
      "text/plain": [
       "<IPython.core.display.Image object>"
      ]
     },
     "metadata": {},
     "output_type": "display_data"
    }
   ],
   "source": [
    "gr = ROOT.TMultiGraph()\n",
    "g60 = ROOT.TGraphErrors(int(num60/1000),Z60,mean60,errorsX60,errorsY60)\n",
    "gz = ROOT.TGraphErrors(len(stdZ),Z,mean,errorsX,std)\n",
    "gz1 = ROOT.TGraphErrors(len(stdZ1),Z1,mean1,errorsX1,std1)\n",
    "g60.SetMarkerColor(2) #red\n",
    "gz.SetMarkerColor(3) #green\n",
    "gz1.SetMarkerColor(4)\n",
    "g60.SetLineColor(2) #red\n",
    "gz.SetLineColor(3) #green\n",
    "gz1.SetLineColor(4)\n",
    "g60.SetLineWidth(3)\n",
    "gz.SetLineWidth(3)\n",
    "gz1.SetLineWidth(3)\n",
    "gr.Add(g60)\n",
    "gr.Add(gz)\n",
    "gr.Add(gz1)\n",
    "gr.Draw(\"A*\")\n",
    "\n",
    "# legend.SetHeader(\"Legend\",\"C\")\n",
    "# legend.AddEntry(g1,\"1MeV\",\"l\")\n",
    "# legend.AddEntry(g150,\"300keV\",\"l\")\n",
    "# legend.AddEntry(g60,\"60keV\",\"l\")\n",
    "# legend.Draw()\n",
    "\n",
    "gr.GetXaxis().SetLabelSize(0.06)\n",
    "gr.GetYaxis().SetLabelSize(0.06)\n",
    "gr.GetXaxis().SetTitleSize(444)\n",
    "gr.GetYaxis().SetTitleSize(444)\n",
    "c1.Draw()"
   ]
  },
  {
   "cell_type": "code",
   "execution_count": null,
   "metadata": {},
   "outputs": [],
   "source": []
  }
 ],
 "metadata": {
  "kernelspec": {
   "display_name": "Python 3",
   "language": "python",
   "name": "python3"
  },
  "language_info": {
   "codemirror_mode": {
    "name": "ipython",
    "version": 3
   },
   "file_extension": ".py",
   "mimetype": "text/x-python",
   "name": "python",
   "nbconvert_exporter": "python",
   "pygments_lexer": "ipython3",
   "version": "3.8.8"
  }
 },
 "nbformat": 4,
 "nbformat_minor": 4
}
