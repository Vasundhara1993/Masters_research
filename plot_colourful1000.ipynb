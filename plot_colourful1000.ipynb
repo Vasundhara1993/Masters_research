{
 "cells": [
  {
   "cell_type": "code",
   "execution_count": 1,
   "metadata": {},
   "outputs": [
    {
     "name": "stdout",
     "output_type": "stream",
     "text": [
      "Welcome to JupyROOT 6.10/00\n"
     ]
    },
    {
     "data": {
      "text/plain": [
       "0"
      ]
     },
     "execution_count": 1,
     "metadata": {},
     "output_type": "execute_result"
    }
   ],
   "source": [
    "import ROOT #Start by importing ROOT\n",
    "import numpy as np\n",
    "ROOT.enableJSVis() #need this to make interactive ROOT plots\n",
    "c1 = ROOT.TCanvas() #declare the ROOT canvas\n",
    "ROOT.gSystem.Load(\"/usr/local/software/quadis/build/lib/libquadis.so\")"
   ]
  },
  {
   "cell_type": "code",
   "execution_count": 2,
   "metadata": {},
   "outputs": [
    {
     "name": "stdout",
     "output_type": "stream",
     "text": [
      "50000\n"
     ]
    }
   ],
   "source": [
    "infile = ROOT.TFile(\"/home/vasu/quadis/build/bin/proc_RMS1000.root\")\n",
    "tree = infile.Get(\"T2\")\n",
    "num_files = tree.GetEntries()\n",
    "print num_files"
   ]
  },
  {
   "cell_type": "code",
   "execution_count": 3,
   "metadata": {},
   "outputs": [],
   "source": [
    "infile2 = ROOT.TFile(\"/home/vasu/PPC/PPC_SigGen/SignalLib_root/new_OutputRZperfect.root\")\n",
    "libtree = infile2.Get(\"T1\")\n",
    "nevent = ROOT.NEvent()\n",
    "libtree.SetBranchAddress(\"NEvent\",nevent)\n",
    "\n",
    "rtrue = np.zeros(num_files)\n",
    "ztrue = np.zeros(num_files)\n",
    "ravg = np.zeros(num_files)\n",
    "zavg = np.zeros(num_files)\n",
    "R_new = np.zeros(num_files)\n",
    "Z_new = np.zeros(num_files)\n",
    "rbest = np.zeros(10)\n",
    "zbest = np.zeros(10)\n",
    "\n",
    "vector_chi = ROOT.std.vector('vector<double>')()\n",
    "tree.SetBranchAddress(\"blrPulse_Chis\", vector_chi)\n",
    "vector_R = ROOT.std.vector('double')()\n",
    "tree.SetBranchAddress(\"R\", vector_R)\n",
    "vector_Z = ROOT.std.vector('double')()\n",
    "tree.SetBranchAddress(\"Z\", vector_Z)\n",
    "for i in range (num_files):\n",
    "    tree.GetEntry(i)\n",
    "    rtrue[i] = vector_R[0]\n",
    "    ztrue[i] = vector_Z[0]\n",
    "    ordered_index = np.argsort(vector_chi[0])\n",
    "    for k in range (10):\n",
    "        libtree.GetEntry(ordered_index[k])\n",
    "        rbest[k] = nevent.GetPulseData(1).GetParameterByName(\"R\")\n",
    "        zbest[k] = nevent.GetPulseData(1).GetParameterByName(\"Z\")\n",
    "    ravg[i] = sum(rbest)/10\n",
    "    zavg[i] = sum(zbest)/10\n",
    "    R_new[i] = (rtrue[i]-ravg[i])\n",
    "    Z_new[i] = (ztrue[i]-zavg[i])\n",
    "    "
   ]
  },
  {
   "cell_type": "code",
   "execution_count": null,
   "metadata": {},
   "outputs": [],
   "source": [
    "Rrms = []\n",
    "Zrms = []\n",
    "for i in range (num_files):\n",
    "    if ((i%1000)==0):\n",
    "        print i\n",
    "        hr = ROOT.TH1D(\"hr\",\"hr\",67,-33,34)\n",
    "        hz = ROOT.TH1D(\"hz\",\"hz\",103,-51,52)\n",
    "        for j in range (1000):\n",
    "            if (i<1000):\n",
    "                hr.Fill(R_new[j])\n",
    "                hz.Fill(Z_new[j])\n",
    "            else:\n",
    "                count = (i)+j\n",
    "                hr.Fill(R_new[count])\n",
    "                hz.Fill(Z_new[count])\n",
    "        Rrms.append(hr.GetStdDev())\n",
    "        Zrms.append(hz.GetStdDev())\n",
    "    hr.Clear()\n",
    "    hz.Clear()"
   ]
  },
  {
   "cell_type": "code",
   "execution_count": null,
   "metadata": {},
   "outputs": [],
   "source": [
    "R0 = np.zeros(num_files/1000, dtype = 'int')\n",
    "Z0 = np.zeros(num_files/1000, dtype = 'int')\n",
    "\n",
    "for i in range (len(rtrue)):\n",
    "    if ((i%1000)==0):\n",
    "        R0[i/1000] = rtrue[i]\n",
    "        Z0[i/1000] = ztrue[i]"
   ]
  },
  {
   "cell_type": "code",
   "execution_count": null,
   "metadata": {},
   "outputs": [],
   "source": [
    "hrRMS = ROOT.TH2F(\"hrRMS\",\"hrRMS\",34,0,34,52,0,52)\n",
    "hzRMS = ROOT.TH2F(\"hzRMS\",\"hzRMS\",34,0,34,52,0,52)\n",
    "h1XR = hrRMS.GetXaxis().GetBinWidth(1)\n",
    "h2YR = hrRMS.GetYaxis().GetBinWidth(1)\n",
    "h1XZ = hzRMS.GetXaxis().GetBinWidth(1)\n",
    "h2YZ = hzRMS.GetYaxis().GetBinWidth(1)\n",
    " \n",
    "for i in range (len(R0)):\n",
    "    hrRMS.SetBinContent(int(R0[i]/h1XR),int(Z0[i]/h2YR),Rrms[i])\n",
    "    hzRMS.SetBinContent(int(R0[i]/h1XZ),int(Z0[i]/h2YZ),Zrms[i])\n",
    "    "
   ]
  },
  {
   "cell_type": "code",
   "execution_count": null,
   "metadata": {},
   "outputs": [],
   "source": [
    "hrRMS.Draw(\"colz\")\n",
    "c1.Draw()"
   ]
  },
  {
   "cell_type": "code",
   "execution_count": null,
   "metadata": {},
   "outputs": [],
   "source": [
    "print Rrms"
   ]
  },
  {
   "cell_type": "code",
   "execution_count": null,
   "metadata": {},
   "outputs": [],
   "source": [
    "hzRMS.Draw(\"colz\")\n",
    "c1.Draw()"
   ]
  }
 ],
 "metadata": {
  "kernelspec": {
   "display_name": "Python 3",
   "language": "python",
   "name": "python3"
  },
  "language_info": {
   "codemirror_mode": {
    "name": "ipython",
    "version": 3
   },
   "file_extension": ".py",
   "mimetype": "text/x-python",
   "name": "python",
   "nbconvert_exporter": "python",
   "pygments_lexer": "ipython3",
   "version": "3.8.8"
  }
 },
 "nbformat": 4,
 "nbformat_minor": 2
}
