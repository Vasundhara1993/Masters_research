{
 "cells": [
  {
   "cell_type": "code",
   "execution_count": 1,
   "metadata": {},
   "outputs": [
    {
     "name": "stdout",
     "output_type": "stream",
     "text": [
      "Welcome to JupyROOT 6.22/02\n"
     ]
    },
    {
     "data": {
      "text/plain": [
       "0"
      ]
     },
     "execution_count": 1,
     "metadata": {},
     "output_type": "execute_result"
    }
   ],
   "source": [
    "import numpy as np\n",
    "import matplotlib.pyplot as plt\n",
    "import ROOT\n",
    "import os\n",
    "import pandas as pd\n",
    "import math\n",
    "# ROOT.enableJSVis()\n",
    "c1 = ROOT.TCanvas()\n",
    "ROOT.gSystem.Load(\"/home/vasu/quadis/build/lib/libquadis.so\")"
   ]
  },
  {
   "cell_type": "code",
   "execution_count": 2,
   "metadata": {},
   "outputs": [],
   "source": [
    "bigdata = pd.DataFrame()\n",
    "folder = \"/home/vasu/PPC/PPC_SigGen/arrays/60kevflip-right\"\n",
    "for file in os.listdir(folder):\n",
    "    filepath = os.path.join(folder,file)\n",
    "    df = pd.read_csv(filepath,header=None,sep='\\t')\n",
    "    bigdata = bigdata.append(df,ignore_index=True)    "
   ]
  },
  {
   "cell_type": "code",
   "execution_count": 3,
   "metadata": {},
   "outputs": [],
   "source": [
    "findata = pd.DataFrame()\n",
    "grouped = bigdata.groupby([0,1])\n",
    "sets = list(grouped.groups.keys())\n",
    "for i in range (len(grouped)):\n",
    "    findata = findata.append(grouped.get_group(sets[i]),ignore_index=True)"
   ]
  },
  {
   "cell_type": "code",
   "execution_count": 4,
   "metadata": {},
   "outputs": [],
   "source": [
    "count = 0\n",
    "pop = []\n",
    "for i in range (len(grouped)):\n",
    "    cnum = 0\n",
    "    rsum = 0\n",
    "    zsum = 0\n",
    "    rmean = sets[i][0]\n",
    "    zmean = sets[i][1]\n",
    "    while ((findata[0][count]==rmean) and (findata[1][count]==zmean)):\n",
    "        rsum = rsum + (findata[2][count]-rmean)**2\n",
    "        zsum = zsum + (findata[3][count]-zmean)**2\n",
    "        count = count+1\n",
    "        cnum = cnum+1\n",
    "        if (count == len(findata)):\n",
    "            break\n",
    "        else:\n",
    "            continue\n",
    "    pop.append(cnum)"
   ]
  },
  {
   "cell_type": "code",
   "execution_count": 5,
   "metadata": {},
   "outputs": [],
   "source": [
    "R_true = []\n",
    "Z_true = []\n",
    "for i in range (len(grouped)):\n",
    "    R_true.append(sets[i][0])\n",
    "    Z_true.append(sets[i][1])"
   ]
  },
  {
   "cell_type": "code",
   "execution_count": 6,
   "metadata": {},
   "outputs": [],
   "source": [
    "pophist = ROOT.TH2F(\"pophist\",\"pophist\",33,0,33,51,0,51)\n",
    "h1XR = pophist.GetXaxis().GetBinWidth(1)\n",
    "h2YR = pophist.GetYaxis().GetBinWidth(1)\n",
    "\n",
    "for i in range (len(R_true)):\n",
    "    pophist.SetBinContent(int(R_true[i]/h1XR),int(Z_true[i]/h2YR),pop[i])"
   ]
  },
  {
   "cell_type": "code",
   "execution_count": 7,
   "metadata": {},
   "outputs": [
    {
     "data": {
      "image/png": "[encoded data removed]",
      "text/plain": [
       "<IPython.core.display.Image object>"
      ]
     },
     "metadata": {},
     "output_type": "display_data"
    }
   ],
   "source": [
    "pophist.Draw(\"colz\")\n",
    "c1.SetWindowSize(500,510);\n",
    "c1.SetCanvasSize(330,510);\n",
    "pophist.SetMaximum(2000)\n",
    "pophist.SetMinimum(0)\n",
    "pophist.GetXaxis().SetLabelSize(0.06)\n",
    "pophist.GetYaxis().SetLabelSize(0.06)\n",
    "pophist.GetZaxis().SetLabelSize(0.05)\n",
    "pophist.GetXaxis().SetTitleSize(444)\n",
    "pophist.GetYaxis().SetTitleSize(444)\n",
    "pophist.SetStats(0)\n",
    "# c1.SaveAs(\"images/3500V.png\")\n",
    "c1.SetRightMargin(0.2)\n",
    "c1.Draw()"
   ]
  },
  {
   "cell_type": "code",
   "execution_count": 8,
   "metadata": {},
   "outputs": [],
   "source": [
    "for i in range (len(sets)):\n",
    "    if (sets[i] == (27,39)):\n",
    "        print (\"yes\")\n"
   ]
  },
  {
   "cell_type": "code",
   "execution_count": null,
   "metadata": {},
   "outputs": [],
   "source": []
  }
 ],
 "metadata": {
  "kernelspec": {
   "display_name": "Python 3",
   "language": "python",
   "name": "python3"
  },
  "language_info": {
   "codemirror_mode": {
    "name": "ipython",
    "version": 3
   },
   "file_extension": ".py",
   "mimetype": "text/x-python",
   "name": "python",
   "nbconvert_exporter": "python",
   "pygments_lexer": "ipython3",
   "version": "3.8.8"
  }
 },
 "nbformat": 4,
 "nbformat_minor": 2
}
