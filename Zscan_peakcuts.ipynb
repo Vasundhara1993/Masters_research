{
 "cells": [
  {
   "cell_type": "code",
   "execution_count": 1,
   "metadata": {},
   "outputs": [
    {
     "name": "stdout",
     "output_type": "stream",
     "text": [
      "Welcome to JupyROOT 6.22/02\n"
     ]
    }
   ],
   "source": [
    "import numpy as np\n",
    "import matplotlib.pyplot as plt\n",
    "import ROOT\n",
    "import os\n",
    "import time\n",
    "import math\n",
    "# ROOT.enableJSVis()\n",
    "c1 = ROOT.TCanvas()\n",
    "ROOT.gSystem.Load(\"/home/vasu/quadis/build/lib/libquadis.so\")\n",
    "import pandas as pd"
   ]
  },
  {
   "cell_type": "code",
   "execution_count": 2,
   "metadata": {},
   "outputs": [],
   "source": [
    "infile = ROOT.TFile(\"/data/ppc/ortecppc/T1/SCAN100016/SCAN100016_1.root\")\n",
    "tree = infile.Get(\"T1\")\n",
    "nevent = ROOT.NEvent()\n",
    "tree.SetBranchAddress(\"NEvent\",nevent)\n",
    "num_files = (tree.GetEntries())\n",
    "\n",
    "blrPulse = ROOT.NPulse()\n",
    "blrFilter = ROOT.NFBaselineRemover(1000) \n",
    "trapPulse = ROOT.NPulse() \n",
    "hval = ROOT.TH1F(\"hval\",\"hval\",200,64,82)\n",
    "\n",
    "for i in range (num_files):\n",
    "    tree.GetEntry(i)\n",
    "    npulse = nevent.GetPulse(0)\n",
    "    blrFilter.Filter(npulse,blrPulse)\n",
    "    baseline = blrFilter.GetCalcParameterByName(\"Baseline\")\n",
    "    trapFilter = ROOT.NFTrapezoid(750,250,0,baseline)\n",
    "    trapFilter.Filter(blrPulse,trapPulse)\n",
    "    val = trapFilter.GetCalcParameterByName(\"Max\")\n",
    "    if (64<val<82):\n",
    "        hval.Fill(val)\n"
   ]
  },
  {
   "cell_type": "code",
   "execution_count": 4,
   "metadata": {},
   "outputs": [
    {
     "data": {
      "image/png": "[encoded data removed]",
      "text/plain": [
       "<IPython.core.display.Image object>"
      ]
     },
     "metadata": {},
     "output_type": "display_data"
    }
   ],
   "source": [
    "hval.Draw()\n",
    "c1.Draw()\n",
    "hval.GetXaxis().SetLabelSize(0.06)\n",
    "hval.GetYaxis().SetLabelSize(0.06)\n",
    "hval.GetXaxis().SetTitleSize(444)\n",
    "hval.GetYaxis().SetTitleSize(444)\n",
    "hval.GetZaxis().SetLabelSize(0.05)\n",
    "hval.SetStats(0)\n",
    "hval.SetLineWidth(2)\n",
    "c1.Draw()"
   ]
  },
  {
   "cell_type": "code",
   "execution_count": null,
   "metadata": {},
   "outputs": [],
   "source": []
  }
 ],
 "metadata": {
  "kernelspec": {
   "display_name": "Python 3",
   "language": "python",
   "name": "python3"
  },
  "language_info": {
   "codemirror_mode": {
    "name": "ipython",
    "version": 3
   },
   "file_extension": ".py",
   "mimetype": "text/x-python",
   "name": "python",
   "nbconvert_exporter": "python",
   "pygments_lexer": "ipython3",
   "version": "3.8.8"
  }
 },
 "nbformat": 4,
 "nbformat_minor": 4
}
