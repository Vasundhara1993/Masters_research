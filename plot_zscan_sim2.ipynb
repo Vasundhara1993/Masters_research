{
 "cells": [
  {
   "cell_type": "code",
   "execution_count": 1,
   "metadata": {},
   "outputs": [
    {
     "name": "stdout",
     "output_type": "stream",
     "text": [
      "Welcome to JupyROOT 6.22/02\n"
     ]
    }
   ],
   "source": [
    "import numpy as np\n",
    "import matplotlib.pyplot as plt\n",
    "import ROOT\n",
    "import os\n",
    "import time\n",
    "import math\n",
    "c1 = ROOT.TCanvas()\n",
    "ROOT.gSystem.Load(\"/usr/local/software/quadis/build/lib/libquadis.so\")\n",
    "import pandas as pd"
   ]
  },
  {
   "cell_type": "code",
   "execution_count": 2,
   "metadata": {},
   "outputs": [],
   "source": [
    "index = []\n",
    "bigdata = pd.DataFrame()\n",
    "folder = \"/home/vasu/PPC/PPC_SigGen/arrays/60kevflip\"\n",
    "for file in os.listdir(folder):\n",
    "    filepath = os.path.join(folder,file)\n",
    "    df = pd.read_csv(filepath,header=None,sep='\\t')\n",
    "    bigdata = bigdata.append(df,ignore_index=True)"
   ]
  },
  {
   "cell_type": "code",
   "execution_count": 10,
   "metadata": {},
   "outputs": [
    {
     "ename": "TypeError",
     "evalue": "__init__() got an unexpected keyword argument 'header'",
     "output_type": "error",
     "traceback": [
      "\u001b[0;31m---------------------------------------------------------------------------\u001b[0m",
      "\u001b[0;31mTypeError\u001b[0m                                 Traceback (most recent call last)",
      "\u001b[0;32m<ipython-input-10-cd70267e4376>\u001b[0m in \u001b[0;36m<module>\u001b[0;34m\u001b[0m\n\u001b[1;32m      2\u001b[0m \u001b[0;31m# selected_columns = bigdata[[1,3]]\u001b[0m\u001b[0;34m\u001b[0m\u001b[0;34m\u001b[0m\u001b[0;34m\u001b[0m\u001b[0m\n\u001b[1;32m      3\u001b[0m \u001b[0;31m# new_df = selected_columns.copy()\u001b[0m\u001b[0;34m\u001b[0m\u001b[0;34m\u001b[0m\u001b[0;34m\u001b[0m\u001b[0m\n\u001b[0;32m----> 4\u001b[0;31m \u001b[0mdf\u001b[0m \u001b[0;34m=\u001b[0m \u001b[0mpd\u001b[0m\u001b[0;34m.\u001b[0m\u001b[0mDataFrame\u001b[0m\u001b[0;34m(\u001b[0m\u001b[0mbigdata\u001b[0m\u001b[0;34m.\u001b[0m\u001b[0mgroupby\u001b[0m\u001b[0;34m(\u001b[0m\u001b[0;36m3\u001b[0m\u001b[0;34m)\u001b[0m\u001b[0;34m[\u001b[0m\u001b[0;36m1\u001b[0m\u001b[0;34m]\u001b[0m\u001b[0;34m,\u001b[0m\u001b[0mheader\u001b[0m\u001b[0;34m=\u001b[0m\u001b[0;32mNone\u001b[0m\u001b[0;34m,\u001b[0m\u001b[0mignore_index\u001b[0m\u001b[0;34m=\u001b[0m\u001b[0;32mTrue\u001b[0m\u001b[0;34m)\u001b[0m\u001b[0;34m\u001b[0m\u001b[0;34m\u001b[0m\u001b[0m\n\u001b[0m\u001b[1;32m      5\u001b[0m \u001b[0mnew_df\u001b[0m \u001b[0;34m=\u001b[0m \u001b[0mnew_df\u001b[0m\u001b[0;34m.\u001b[0m\u001b[0mappend\u001b[0m\u001b[0;34m(\u001b[0m\u001b[0mdf\u001b[0m\u001b[0;34m,\u001b[0m\u001b[0mignore_index\u001b[0m\u001b[0;34m=\u001b[0m\u001b[0;32mTrue\u001b[0m\u001b[0;34m)\u001b[0m\u001b[0;34m\u001b[0m\u001b[0;34m\u001b[0m\u001b[0m\n",
      "\u001b[0;31mTypeError\u001b[0m: __init__() got an unexpected keyword argument 'header'"
     ]
    }
   ],
   "source": [
    "new_df = pd.DataFrame()\n",
    "# selected_columns = bigdata[[1,3]]\n",
    "# new_df = selected_columns.copy()\n",
    "df = pd.DataFrame(bigdata.groupby(3)[1])\n",
    "new_df = new_df.append(df,ignore_index=True)\n"
   ]
  },
  {
   "cell_type": "code",
   "execution_count": null,
   "metadata": {},
   "outputs": [],
   "source": []
  },
  {
   "cell_type": "code",
   "execution_count": 9,
   "metadata": {},
   "outputs": [
    {
     "name": "stdout",
     "output_type": "stream",
     "text": [
      "       0                                                  1\n",
      "0    1.0  192000      2.0\n",
      "192001      3.0\n",
      "192002      1....\n",
      "1    2.0  33000      1.0\n",
      "33001      4.0\n",
      "33002      2.0\n",
      "3...\n",
      "2    3.0  81000      5.0\n",
      "81001      1.0\n",
      "81002      4.0\n",
      "8...\n",
      "3    4.0  28000       3.0\n",
      "28001       4.0\n",
      "28002       4....\n",
      "4    5.0  10000      5.0\n",
      "10001      5.0\n",
      "10002      6.0\n",
      "1...\n",
      "5    6.0  38000      7.0\n",
      "38001      4.0\n",
      "38002      7.0\n",
      "3...\n",
      "6    7.0  22000      10.0\n",
      "22001       9.0\n",
      "22002      11....\n",
      "7    8.0  3000       11.0\n",
      "3001        5.0\n",
      "3002       19....\n",
      "8    9.0  52000      14.0\n",
      "52001       7.0\n",
      "52002       7....\n",
      "9   10.0  2000       11.0\n",
      "2001        8.0\n",
      "2002       19....\n",
      "10  11.0  43000      19.0\n",
      "43001      25.0\n",
      "43002      12....\n",
      "11  12.0  175000     12.0\n",
      "175001     10.0\n",
      "175002     12....\n",
      "12  13.0  12000      12.0\n",
      "12001      19.0\n",
      "12002      20....\n",
      "13  14.0  6000       11.0\n",
      "6001       10.0\n",
      "6002       18....\n",
      "14  15.0  39000       5.0\n",
      "39001      14.0\n",
      "39002      13....\n",
      "15  16.0  9000       13.0\n",
      "9001       32.0\n",
      "9002       16....\n",
      "16  17.0  24000      12.0\n",
      "24001      30.0\n",
      "24002       8....\n",
      "17  18.0  40000      17.0\n",
      "40001       7.0\n",
      "40002      15....\n",
      "18  19.0  53000      12.0\n",
      "53001      15.0\n",
      "53002      15....\n",
      "19  20.0  89000      10.0\n",
      "89001       9.0\n",
      "89002      19....\n",
      "20  21.0  158000     21.0\n",
      "158001     35.0\n",
      "158002     29....\n",
      "21  22.0  27000      17.0\n",
      "27001      10.0\n",
      "27002      24....\n",
      "22  23.0  1000       15.0\n",
      "1001       15.0\n",
      "1002       14....\n",
      "23  24.0  73000      21.0\n",
      "73001      20.0\n",
      "73002      10....\n",
      "24  25.0  55000      29.0\n",
      "55001      10.0\n",
      "55002      10....\n",
      "25  26.0  4000       48.0\n",
      "4001       13.0\n",
      "4002       24....\n",
      "26  27.0  0          27.0\n",
      "1          32.0\n",
      "2          32....\n",
      "27  28.0  8000       33.0\n",
      "8001       10.0\n",
      "8002       28....\n",
      "28  29.0  25000      21.0\n",
      "25001      24.0\n",
      "25002      44....\n",
      "29  30.0  26000      17.0\n",
      "26001      34.0\n",
      "26002      30....\n",
      "30  31.0  13000      10.0\n",
      "13001      21.0\n",
      "13002      18....\n",
      "31  32.0  83000      23.0\n",
      "83001      12.0\n",
      "83002      30....\n",
      "32  33.0  20000      15.0\n",
      "20001      11.0\n",
      "20002      10....\n",
      "33  34.0  275000     25.0\n",
      "275001     19.0\n",
      "275002     23....\n",
      "34  35.0  69000      12.0\n",
      "69001       9.0\n",
      "69002      11....\n",
      "35  36.0  108000     32.0\n",
      "108001     15.0\n",
      "108002     17....\n",
      "36  37.0  70000      15.0\n",
      "70001      13.0\n",
      "70002      38....\n",
      "37  38.0  37000      39.0\n",
      "37001      38.0\n",
      "37002      14....\n",
      "38  39.0  98000      37.0\n",
      "98001      38.0\n",
      "98002      13....\n",
      "39  40.0  161000     16.0\n",
      "161001     45.0\n",
      "161002     38....\n",
      "40  41.0  47000      36.0\n",
      "47001      18.0\n",
      "47002      26....\n",
      "41  42.0  30000      15.0\n",
      "30001      26.0\n",
      "30002      16....\n",
      "42  43.0  51000      29.0\n",
      "51001      29.0\n",
      "51002      14....\n",
      "43  44.0  86000      15.0\n",
      "86001      33.0\n",
      "86002      23....\n",
      "44  45.0  114000     12.0\n",
      "114001     14.0\n",
      "114002     21....\n",
      "45  46.0  21000      31.0\n",
      "21001      36.0\n",
      "21002      48....\n",
      "46  47.0  5000       14.0\n",
      "5001       39.0\n",
      "5002       36....\n",
      "47  48.0  18000      43.0\n",
      "18001      20.0\n",
      "18002      21....\n",
      "48  49.0  14000      17.0\n",
      "14001      24.0\n",
      "14002      17....\n",
      "49  50.0  31000      41.0\n",
      "31001      14.0\n",
      "31002      36....\n",
      "50  51.0  96000      19.0\n",
      "96001      29.0\n",
      "96002      47....\n"
     ]
    }
   ],
   "source": [
    "print ((new_df))"
   ]
  },
  {
   "cell_type": "code",
   "execution_count": null,
   "metadata": {},
   "outputs": [],
   "source": [
    "num = new_df.shape[0]"
   ]
  },
  {
   "cell_type": "code",
   "execution_count": null,
   "metadata": {},
   "outputs": [],
   "source": [
    "fitZ = np.zeros(num)\n",
    "trueZ = np.zeros(num)\n",
    "for i in range (num):\n",
    "    fitZ[i] = new_df[1][i]\n",
    "    trueZ[i] = bigdata[3][i]"
   ]
  },
  {
   "cell_type": "code",
   "execution_count": null,
   "metadata": {},
   "outputs": [],
   "source": [
    "stdZ = []\n",
    "meanZ = []\n",
    "Z0 = []\n",
    "hz = ROOT.TH1F(\"hz\",\"hz\",300,-60,60)\n",
    "for i in range (num-1): \n",
    "    if(trueZ[i] == trueZ[i+1]):\n",
    "        hz.Fill(fitZ[i])\n",
    "    else:\n",
    "        print (i)\n",
    "        stdZ.append((hz.GetStdDev()))\n",
    "        meanZ.append((hz.GetMean()))\n",
    "        Z0.append(trueZ[i])\n",
    "        hz.Clear()\n",
    "        hz = ROOT.TH1F(\"hz\",\"hz\",300,-60,60)"
   ]
  },
  {
   "cell_type": "code",
   "execution_count": null,
   "metadata": {},
   "outputs": [],
   "source": [
    "std = np.array(np.true_divide(stdZ,math.sqrt(1000)))\n",
    "mean = np.array(meanZ)\n",
    "Z = np.array(Z0, dtype = float)"
   ]
  },
  {
   "cell_type": "code",
   "execution_count": null,
   "metadata": {},
   "outputs": [],
   "source": [
    "errorsX = np.zeros(len(stdZ))"
   ]
  },
  {
   "cell_type": "code",
   "execution_count": null,
   "metadata": {},
   "outputs": [],
   "source": [
    "gr = ROOT.TGraphErrors(len(std),ind,mean,errorsX,std)\n",
    "gr.Draw('AP*')\n",
    "c1.Draw()"
   ]
  }
 ],
 "metadata": {
  "kernelspec": {
   "display_name": "Python 3",
   "language": "python",
   "name": "python3"
  },
  "language_info": {
   "codemirror_mode": {
    "name": "ipython",
    "version": 3
   },
   "file_extension": ".py",
   "mimetype": "text/x-python",
   "name": "python",
   "nbconvert_exporter": "python",
   "pygments_lexer": "ipython3",
   "version": "3.8.8"
  }
 },
 "nbformat": 4,
 "nbformat_minor": 4
}
