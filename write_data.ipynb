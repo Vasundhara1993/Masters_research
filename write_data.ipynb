{
 "cells": [
  {
   "cell_type": "code",
   "execution_count": 1,
   "metadata": {},
   "outputs": [
    {
     "name": "stdout",
     "output_type": "stream",
     "text": [
      "Welcome to JupyROOT 6.22/02\n"
     ]
    },
    {
     "data": {
      "text/plain": [
       "0"
      ]
     },
     "execution_count": 1,
     "metadata": {},
     "output_type": "execute_result"
    }
   ],
   "source": [
    "import numpy as np\n",
    "import matplotlib.pyplot as plt\n",
    "import ROOT\n",
    "import os\n",
    "# ROOT.enableJSVis()\n",
    "c1 = ROOT.TCanvas()\n",
    "ROOT.gSystem.Load(\"/usr/local/software/quadis/build/lib/libquadis.so\")   "
   ]
  },
  {
   "cell_type": "code",
   "execution_count": 2,
   "metadata": {},
   "outputs": [],
   "source": [
    "nSamples = 4096#Lets keep the first 200 entries = 0\n",
    "SP = 8#1ns,check in SigGen\n",
    "\n",
    "outfile = ROOT.TFile(\"/home/vasu/PPC/PPC_SigGen/zscan_1000/data36.root\", \"recreate\")\n",
    "tree = ROOT.TTree(\"T1\",\"Data Pulses\")\n",
    "event = ROOT.NEvent()\n",
    "tree.Branch(\"NEvent\",event,32000,1);\n",
    "\n",
    "pulse = ROOT.NPulse(nSamples)\n",
    "pulse.SetEncodingScheme(1) #kDeltaVarInt?\n",
    "pulse.SetSamplingPeriod(SP)\n",
    "\n",
    "pulseData = ROOT.NPulseData()\n",
    "pulseData.SetDigitizerType(2) #s3316\n",
    "pulseData.AddParameterUL(\"TimeStamp\")\n",
    "pulseData.AddParameterUL(\"MaxEnergy\")\n",
    "pulseData.AddParameterUL(\"PeakingVal\")\n",
    "pulseData.AddParameterUL(\"StartEnergy\")\n",
    "pulseData.AddParameterUL(\"Channel\")\n",
    "pulseData.AddParameterUL(\"Pileup\")\n",
    "pulseData.AddParameterUL(\"UnixStartTime\")\n",
    "pulseData.AddParameterUL(\"Downsample\")\n",
    "\n",
    "\n",
    "infile1 = ROOT.TFile(\"/data/ppc/ortecppc/T1/SCAN100016/SCAN100016_36.root\")\n",
    "tree1 = infile1.Get(\"T1\")\n",
    "nevent1 = ROOT.NEvent()\n",
    "tree1.SetBranchAddress(\"NEvent\",nevent1)\n",
    "nf = tree1.GetEntries()\n",
    "\n",
    "blrPulse = ROOT.NPulse()\n",
    "blrFilter = ROOT.NFBaselineRemover(1000) \n",
    "trapPulse = ROOT.NPulse()\n",
    "\n",
    "count = 0\n",
    "\n",
    "for i in range (nf):\n",
    "    tree1.GetEntry(i)\n",
    "    npulse = nevent1.GetPulse(0)\n",
    "    TS = nevent1.GetPulseData(0).GetParameterByNameUL(\"TimeStamp\")\n",
    "    ME = nevent1.GetPulseData(0).GetParameterByNameUL(\"MaxEnergy\")\n",
    "    PV = nevent1.GetPulseData(0).GetParameterByNameUL(\"PeakingVal\")\n",
    "    SE = nevent1.GetPulseData(0).GetParameterByNameUL(\"StartEnergy\")\n",
    "    Ch = nevent1.GetPulseData(0).GetParameterByNameUL(\"Channel\")\n",
    "    PU = nevent1.GetPulseData(0).GetParameterByNameUL(\"Pileup\")\n",
    "    UST = nevent1.GetPulseData(0).GetParameterByNameUL(\"UnixStartTime\")\n",
    "    DS = nevent1.GetPulseData(0).GetParameterByNameUL(\"Downsample\")\n",
    "   \n",
    "    blrFilter.Filter(npulse,blrPulse)\n",
    "    baseline = blrFilter.GetCalcParameterByName(\"Baseline\")\n",
    "    trapFilter = ROOT.NFTrapezoid(750,250,0,baseline)\n",
    "    trapFilter.Filter(blrPulse,trapPulse)\n",
    "    val = trapFilter.GetCalcParameterByName(\"Max\")\n",
    "    if (count>=1000):\n",
    "        break\n",
    "    else:\n",
    "        if (72.5<=val<=74.5):    \n",
    "            count = count+1\n",
    "            for j in range (nSamples):\n",
    "                pulse[j] = blrPulse[j]\n",
    "            pulseData.SetParameterByNameUL(\"TimeStamp\",TS)\n",
    "            pulseData.SetParameterByNameUL(\"MaxEnergy\",ME)\n",
    "            pulseData.SetParameterByNameUL(\"PeakingVal\",PV)\n",
    "            pulseData.SetParameterByNameUL(\"StartEnergy\",SE)\n",
    "            pulseData.SetParameterByNameUL(\"Channel\",Ch)\n",
    "            pulseData.SetParameterByNameUL(\"Pileup\",PU)\n",
    "            pulseData.SetParameterByNameUL(\"UnixStartTime\",UST)\n",
    "            pulseData.SetParameterByNameUL(\"Downsample\",DS)\n",
    "            event.AddPulseAndData(pulse,pulseData,0)\n",
    "\n",
    "            tree.Fill()\n",
    "            event.Clear()\n",
    "\n",
    "outfile.cd()\n",
    "tree.Write()\n",
    "outfile.Close()"
   ]
  },
  {
   "cell_type": "code",
   "execution_count": null,
   "metadata": {},
   "outputs": [],
   "source": []
  },
  {
   "cell_type": "code",
   "execution_count": 3,
   "metadata": {},
   "outputs": [
    {
     "name": "stdout",
     "output_type": "stream",
     "text": [
      "1000\n",
      "1000\n"
     ]
    }
   ],
   "source": [
    "infile1 = ROOT.TFile(\"/home/vasu/PPC/PPC_SigGen/zscan_1000/data36.root\")\n",
    "tree1 = infile1.Get(\"T1\")\n",
    "event1 = ROOT.NEvent()\n",
    "tree1.SetBranchAddress(\"NEvent\",event1)\n",
    "print (tree1.GetEntries())\n",
    "print (count)"
   ]
  },
  {
   "cell_type": "code",
   "execution_count": null,
   "metadata": {},
   "outputs": [],
   "source": []
  }
 ],
 "metadata": {
  "kernelspec": {
   "display_name": "Python 3",
   "language": "python",
   "name": "python3"
  },
  "language_info": {
   "codemirror_mode": {
    "name": "ipython",
    "version": 3
   },
   "file_extension": ".py",
   "mimetype": "text/x-python",
   "name": "python",
   "nbconvert_exporter": "python",
   "pygments_lexer": "ipython3",
   "version": "3.8.8"
  }
 },
 "nbformat": 4,
 "nbformat_minor": 4
}
