{
 "cells": [
  {
   "cell_type": "code",
   "execution_count": 1,
   "metadata": {},
   "outputs": [
    {
     "name": "stdout",
     "output_type": "stream",
     "text": [
      "Welcome to JupyROOT 6.22/02\n"
     ]
    },
    {
     "data": {
      "text/plain": [
       "0"
      ]
     },
     "execution_count": 1,
     "metadata": {},
     "output_type": "execute_result"
    }
   ],
   "source": [
    "import numpy as np\n",
    "import matplotlib.pyplot as plt\n",
    "import ROOT\n",
    "import os\n",
    "# ROOT.enableJSVis()\n",
    "c1 = ROOT.TCanvas()\n",
    "ROOT.gSystem.Load(\"/home/vasu/quadis/build/lib/libquadis.so\")   "
   ]
  },
  {
   "cell_type": "code",
   "execution_count": 4,
   "metadata": {},
   "outputs": [
    {
     "name": "stdout",
     "output_type": "stream",
     "text": [
      "the baseline of the pulse was 32007.766\n",
      "The maximum of the trapezoid is 24.09886486486357\n"
     ]
    },
    {
     "data": {
      "image/png": "[encoded data removed]",
      "text/plain": [
       "<IPython.core.display.Image object>"
      ]
     },
     "metadata": {},
     "output_type": "display_data"
    }
   ],
   "source": [
    "# infile = ROOT.TFile(\"/home/vasu/PPC/PPC_SigGen/SCAN100004/SCAN100004_RUN13.root\")\n",
    "infile = ROOT.TFile(\"/data/ppc/ortecppc/T1/NOISE/NOISE_RUN_6/NOISE_RUN6_1_0.root\")\n",
    "tree = infile.Get(\"T1\")\n",
    "nevent = ROOT.NEvent()\n",
    "tree.SetBranchAddress(\"NEvent\",nevent)\n",
    "tree.GetEntry(544)\n",
    "npulse = nevent.GetPulse(0)\n",
    "sP = npulse.GetSamplingPeriod()\n",
    "\n",
    "blrPulse = ROOT.NPulse()\n",
    "blrFilter = ROOT.NFBaselineRemover(1000*sP) #use 1000 samples to calculate the baseline\n",
    "blrFilter.Filter(npulse,blrPulse)# apply the filter\n",
    "baseline = blrFilter.GetCalcParameterByName(\"Baseline\")\n",
    "print(\"the baseline of the pulse was\",baseline)\n",
    "\n",
    "trapPulse = ROOT.NPulse() #to hold the filtered result\n",
    "trapFilter = ROOT.NFTrapezoid(300,0,0,baseline) #tau of about 6000 samples\n",
    "#trapFilter.SetRiseNS(35)\n",
    "#trapFilter.SetGapNS(17)\n",
    "trapFilter.SetBaseline(baseline)\n",
    "trapFilter.Filter(npulse,trapPulse)\n",
    "print(\"The maximum of the trapezoid is\",trapFilter.GetCalcParameterByName(\"MaxAbs\"))\n",
    "\n",
    "# npcFilter = ROOT.NPCMinMax()\n",
    "# npcFilter.CalculateParameters(trapPulse)\n",
    "# print(npcFilter.GetCalcParameterByName(\"MaxTime\"))\n",
    "\n",
    "pulseh = npulse.GetTH1Dmus()\n",
    "traph = trapPulse.GetTH1Dmus()\n",
    "traph.SetLineColor(3)\n",
    "pulseh.Draw()\n",
    "# traph.Draw(\"Same\")\n",
    "c1.Draw()\n",
    "c1.SetWindowSize(1000,1000)\n",
    "c1.SetCanvasSize(700,500)\n",
    "pulseh.GetXaxis().SetLabelSize(0.06)\n",
    "pulseh.GetYaxis().SetLabelSize(0.06)\n",
    "pulseh.GetXaxis().SetTitleSize(444)\n",
    "pulseh.GetYaxis().SetTitleSize(444)\n",
    "pulseh.SetStats(0)\n",
    "# pulseh.SetLineWidth(3)"
   ]
  },
  {
   "cell_type": "code",
   "execution_count": null,
   "metadata": {},
   "outputs": [],
   "source": [
    "\n"
   ]
  },
  {
   "cell_type": "code",
   "execution_count": null,
   "metadata": {},
   "outputs": [],
   "source": []
  }
 ],
 "metadata": {
  "kernelspec": {
   "display_name": "Python 3",
   "language": "python",
   "name": "python3"
  },
  "language_info": {
   "codemirror_mode": {
    "name": "ipython",
    "version": 3
   },
   "file_extension": ".py",
   "mimetype": "text/x-python",
   "name": "python",
   "nbconvert_exporter": "python",
   "pygments_lexer": "ipython3",
   "version": "3.8.8"
  }
 },
 "nbformat": 4,
 "nbformat_minor": 2
}
