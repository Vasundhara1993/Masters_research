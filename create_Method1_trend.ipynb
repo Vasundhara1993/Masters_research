{
 "cells": [
  {
   "cell_type": "code",
   "execution_count": 1,
   "metadata": {},
   "outputs": [
    {
     "name": "stdout",
     "output_type": "stream",
     "text": [
      "Welcome to JupyROOT 6.22/02\n"
     ]
    },
    {
     "data": {
      "text/plain": [
       "0"
      ]
     },
     "execution_count": 1,
     "metadata": {},
     "output_type": "execute_result"
    }
   ],
   "source": [
    "import ROOT #Start by importing ROOT\n",
    "import numpy as np\n",
    "# ROOT.enableJSVis() #need this to make interactive ROOT plots\n",
    "import os\n",
    "import time\n",
    "c1 = ROOT.TCanvas() #declare the ROOT canvas\n",
    "ROOT.gSystem.Load(\"/home/vasu/quadis/build/lib/libquadis.so\")\n",
    "# ROOT.gSystem.Load(\"/usr/local/software/quadis/build/lib/libquadis.so\") \n"
   ]
  },
  {
   "cell_type": "code",
   "execution_count": 2,
   "metadata": {},
   "outputs": [
    {
     "name": "stdout",
     "output_type": "stream",
     "text": [
      "Loaded library tree with 1 entries\n"
     ]
    }
   ],
   "source": [
    "Mean = []\n",
    "\n",
    "fmean = []\n",
    "\n",
    "infile = ROOT.TFile(\"/home/vasu/PPC/PPC_SigGen/CleanNoisyPulses/parallel_output/trend/trend_final.root\")\n",
    "tree = infile.Get(\"T1\")\n",
    "nevent = ROOT.NEvent()\n",
    "tree.SetBranchAddress(\"NEvent\",nevent)\n",
    "num = tree.GetEntries()\n",
    "\n",
    "fitter = ROOT.NAPulseFitter(\"/home/vasu/PPC/PPC_SigGen/CleanNoisyPulses/parallel_output/trend/sim_library.root\",\"T1\",\"NEvent\",1)\n",
    "baselines = 1000\n",
    "taus = 7100\n",
    "rises=700\n",
    "gaps=225\n",
    "\n",
    "c = 0\n",
    "for i in range (num):\n",
    "    tree.GetEntry(i)\n",
    "    npulse = nevent.GetPulse(5)\n",
    "    pulse = fitter.GetPreProcessedPulse(npulse, False, baselines, taus, rises, gaps)\n",
    "    fitter.SetLibPulseMinThreshold(0.01)\n",
    "    fitter.SetLibPulseMaxThreshold(0.75)\n",
    "    fitter.SetShiftWindow(5) \n",
    "    fitter.FitPulse(pulse)\n",
    "    Mean.append(fitter.GetBestChiSquare())\n",
    "    c = c+1\n",
    "    if (c == 1000):\n",
    "        fmean.append(np.mean(Mean))\n",
    "        mean = []\n",
    "        c = 0"
   ]
  },
  {
   "cell_type": "code",
   "execution_count": 3,
   "metadata": {},
   "outputs": [
    {
     "name": "stdout",
     "output_type": "stream",
     "text": [
      "[1.2975709953272203, 22.001985058571194, 28.050619294226436, 39.74287861736348, 56.13046041998649, 47.00658973924095, 47.967057994733075, 53.23865099727489, 49.216173050206365, 45.22277002244071, 41.53775087515112, 43.647492082654786, 40.45919191147949, 38.20973581708305, 35.80589691197281, 39.06320658024123, 36.96343114051728, 34.99880335950629, 33.68183536992517, 37.210285723712566, 37.11636027956912, 36.08220955509809, 38.786186567957394, 38.357073438271684, 39.04258683507283, 40.5575951868608, 39.367087459234654, 41.373160966318544, 40.507258907101026, 43.03496917342788, 42.331816468626556, 41.66398750429068, 41.94018043769854, 42.64569990506909]\n"
     ]
    }
   ],
   "source": [
    "print ((fmean))"
   ]
  },
  {
   "cell_type": "code",
   "execution_count": 5,
   "metadata": {},
   "outputs": [],
   "source": [
    "deltaR = np.array([0.,1.,-1.,2.,-2.,3.,-3.,4.,-4.,5.,-5.,6.,-6.,7.,-7.,8.,-8.,9.,-9.,10.,-10.,11.,-11.,12.,-12.,13.,-13.,-14.,-15.,-16.,-17.,-18.,-19.,-20.])"
   ]
  },
  {
   "cell_type": "code",
   "execution_count": 9,
   "metadata": {},
   "outputs": [
    {
     "data": {
      "image/png": "[encoded data removed]",
      "text/plain": [
       "<IPython.core.display.Image object>"
      ]
     },
     "metadata": {},
     "output_type": "display_data"
    }
   ],
   "source": [
    "# gr = ROOT.TMultiGraph()\n",
    "gr = ROOT.TGraph(34,deltaR,np.array(fmean))\n",
    "gr.Draw('AP*')\n",
    "# gr.Add(g60,'AP*')\n",
    "c1.Draw()"
   ]
  },
  {
   "cell_type": "code",
   "execution_count": null,
   "metadata": {},
   "outputs": [],
   "source": []
  }
 ],
 "metadata": {
  "kernelspec": {
   "display_name": "Python 3",
   "language": "python",
   "name": "python3"
  },
  "language_info": {
   "codemirror_mode": {
    "name": "ipython",
    "version": 3
   },
   "file_extension": ".py",
   "mimetype": "text/x-python",
   "name": "python",
   "nbconvert_exporter": "python",
   "pygments_lexer": "ipython3",
   "version": "3.8.8"
  }
 },
 "nbformat": 4,
 "nbformat_minor": 4
}
