{
 "cells": [
  {
   "cell_type": "code",
   "execution_count": 1,
   "metadata": {},
   "outputs": [
    {
     "name": "stdout",
     "output_type": "stream",
     "text": [
      "Welcome to JupyROOT 6.22/02\n"
     ]
    },
    {
     "data": {
      "text/plain": [
       "0"
      ]
     },
     "execution_count": 1,
     "metadata": {},
     "output_type": "execute_result"
    }
   ],
   "source": [
    "import numpy as np\n",
    "import matplotlib.pyplot as plt\n",
    "import ROOT\n",
    "import os\n",
    "ROOT.enableJSVis()\n",
    "c1 = ROOT.TCanvas()\n",
    "ROOT.gSystem.Load(\"/usr/local/software/quadis/build/lib/libquadis.so\")   "
   ]
  },
  {
   "cell_type": "code",
   "execution_count": 2,
   "metadata": {},
   "outputs": [],
   "source": [
    "nSamples = 4096#Lets keep the first 200 entries = 0\n",
    "SP = 8#1ns,check in SigGen\n",
    "\n",
    "outfile = ROOT.TFile(\"/home/vasu/PPC/PPC_SigGen/CleanNoisyPulses/parallel_output/trend/sim_library.root\", \"recreate\")\n",
    "tree = ROOT.TTree(\"T1\", \"Simulated Pulses\")\n",
    "event = ROOT.NEvent()\n",
    "tree.Branch(\"NEvent\",event,32000,1);\n",
    "\n",
    "pulse = ROOT.NPulse(nSamples)\n",
    "pulse.SetEncodingScheme(1) #kDeltaVarInt?\n",
    "pulse.SetSamplingPeriod(SP)\n",
    "\n",
    "pulseData = ROOT.NPulseData()\n",
    "pulseData.SetDigitizerType(2) #s3316\n",
    "pulseData.AddParameter(\"Z\")\n",
    "pulseData.AddParameter(\"R\")\n",
    "pulseData.AddParameter(\"RCns\")\n",
    "pulseData.AddParameterUL(\"Channel\")\n",
    "\n",
    "RCDecay = 55e3\n",
    "\n",
    "infile1 = ROOT.TFile(\"/home/vasu/PPC/PPC_SigGen/SignalLib_root/new_OutputRZperfect.root\")\n",
    "tree1 = infile1.Get(\"T1\")\n",
    "nevent1 = ROOT.NEvent()\n",
    "tree1.SetBranchAddress(\"NEvent\",nevent1)\n",
    "\n",
    "tree1.GetEntry(1371) #R=20, Z=40\n",
    "ogPulse = nevent1.GetPulse(1)\n",
    "R = nevent1.GetPulseData(0).GetParameterByName(\"R\")\n",
    "Z = nevent1.GetPulseData(0).GetParameterByName(\"Z\")\n",
    "for j in range (nSamples):\n",
    "    pulse[j] = ogPulse[j]\n",
    "pulseData.SetParameterByName(\"R\",R)\n",
    "pulseData.SetParameterByName(\"Z\",Z)\n",
    "pulseData.SetParameterByName(\"RCns\",RCDecay)\n",
    "pulseData.SetParameterByNameUL(\"Channel\",0)\n",
    "event.AddPulseAndData(pulse,pulseData,0)\n",
    "\n",
    "tree.Fill()\n",
    "event.Clear(\"C\")\n",
    "    \n",
    "\n",
    "outfile.cd()\n",
    "tree.Write()\n",
    "outfile.Close()"
   ]
  },
  {
   "cell_type": "code",
   "execution_count": 4,
   "metadata": {},
   "outputs": [
    {
     "ename": "ReferenceError",
     "evalue": "attempt to access a null-pointer",
     "output_type": "error",
     "traceback": [
      "\u001b[0;31m---------------------------------------------------------------------------\u001b[0m",
      "\u001b[0;31mReferenceError\u001b[0m                            Traceback (most recent call last)",
      "\u001b[0;32m<ipython-input-4-4b1d7ce55df4>\u001b[0m in \u001b[0;36m<module>\u001b[0;34m\u001b[0m\n\u001b[1;32m      8\u001b[0m \u001b[0;31m# pulse = event.GetPulse(0)\u001b[0m\u001b[0;34m\u001b[0m\u001b[0;34m\u001b[0m\u001b[0;34m\u001b[0m\u001b[0m\n\u001b[1;32m      9\u001b[0m \u001b[0;34m\u001b[0m\u001b[0m\n\u001b[0;32m---> 10\u001b[0;31m \u001b[0mprint\u001b[0m \u001b[0;34m(\u001b[0m\u001b[0mevent\u001b[0m\u001b[0;34m.\u001b[0m\u001b[0mGetPulseData\u001b[0m\u001b[0;34m(\u001b[0m\u001b[0;36m0\u001b[0m\u001b[0;34m)\u001b[0m\u001b[0;34m.\u001b[0m\u001b[0mGetParameterByName\u001b[0m\u001b[0;34m(\u001b[0m\u001b[0;34m\"R\"\u001b[0m\u001b[0;34m)\u001b[0m\u001b[0;34m)\u001b[0m\u001b[0;34m\u001b[0m\u001b[0;34m\u001b[0m\u001b[0m\n\u001b[0m\u001b[1;32m     11\u001b[0m \u001b[0mprint\u001b[0m \u001b[0;34m(\u001b[0m\u001b[0mevent\u001b[0m\u001b[0;34m.\u001b[0m\u001b[0mGetPulseData\u001b[0m\u001b[0;34m(\u001b[0m\u001b[0;36m0\u001b[0m\u001b[0;34m)\u001b[0m\u001b[0;34m.\u001b[0m\u001b[0mGetParameterByName\u001b[0m\u001b[0;34m(\u001b[0m\u001b[0;34m\"Z\"\u001b[0m\u001b[0;34m)\u001b[0m\u001b[0;34m)\u001b[0m\u001b[0;34m\u001b[0m\u001b[0;34m\u001b[0m\u001b[0m\n",
      "\u001b[0;31mReferenceError\u001b[0m: attempt to access a null-pointer"
     ]
    }
   ],
   "source": [
    "infile = ROOT.TFile(\"/home/vasu/PPC/PPC_SigGen/CleanNoisyPulses/parallel_output/trend/sim_library.root\")\n",
    "tree = infile.Get(\"T1\")\n",
    "event = ROOT.NEvent()\n",
    "tree.SetBranchAddress(\"NEvent\",event)\n",
    "\n",
    "tree.GetEntry(0)\n",
    "\n",
    "# pulse = event.GetPulse(0)\n",
    "\n",
    "print (event.GetPulseData(0).GetParameterByName(\"R\"))\n",
    "print (event.GetPulseData(0).GetParameterByName(\"Z\"))"
   ]
  },
  {
   "cell_type": "code",
   "execution_count": null,
   "metadata": {},
   "outputs": [],
   "source": []
  }
 ],
 "metadata": {
  "kernelspec": {
   "display_name": "Python 3",
   "language": "python",
   "name": "python3"
  },
  "language_info": {
   "codemirror_mode": {
    "name": "ipython",
    "version": 3
   },
   "file_extension": ".py",
   "mimetype": "text/x-python",
   "name": "python",
   "nbconvert_exporter": "python",
   "pygments_lexer": "ipython3",
   "version": "3.8.8"
  }
 },
 "nbformat": 4,
 "nbformat_minor": 4
}
