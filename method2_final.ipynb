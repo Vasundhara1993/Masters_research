{
 "cells": [
  {
   "cell_type": "code",
   "execution_count": 1,
   "metadata": {},
   "outputs": [
    {
     "name": "stdout",
     "output_type": "stream",
     "text": [
      "Welcome to JupyROOT 6.22/02\n"
     ]
    },
    {
     "data": {
      "text/plain": [
       "0"
      ]
     },
     "execution_count": 1,
     "metadata": {},
     "output_type": "execute_result"
    }
   ],
   "source": [
    "import numpy as np\n",
    "import matplotlib.pyplot as plt\n",
    "import ROOT\n",
    "import os\n",
    "import pandas as pd\n",
    "import math\n",
    "# ROOT.enableJSVis()\n",
    "c1 = ROOT.TCanvas()\n",
    "ROOT.gSystem.Load(\"/home/vasu/quadis/build/lib/libquadis.so\")"
   ]
  },
  {
   "cell_type": "code",
   "execution_count": 2,
   "metadata": {},
   "outputs": [],
   "source": [
    "bigdata = pd.DataFrame()\n",
    "folder = \"/home/vasu/PPC/PPC_SigGen/arrays/60kevflip-right\"\n",
    "for file in os.listdir(folder):\n",
    "    filepath = os.path.join(folder,file)\n",
    "    df = pd.read_csv(filepath,header=None,sep='\\t')\n",
    "    bigdata = bigdata.append(df,ignore_index=True)"
   ]
  },
  {
   "cell_type": "code",
   "execution_count": null,
   "metadata": {},
   "outputs": [],
   "source": []
  },
  {
   "cell_type": "code",
   "execution_count": null,
   "metadata": {},
   "outputs": [],
   "source": []
  },
  {
   "cell_type": "code",
   "execution_count": 3,
   "metadata": {},
   "outputs": [],
   "source": [
    "# grouped2 = bigdata.groupby([0,1])[2].std()\n",
    "# # print grouped2"
   ]
  },
  {
   "cell_type": "code",
   "execution_count": 4,
   "metadata": {},
   "outputs": [],
   "source": [
    "# grouped3 = bigdata.groupby([0,1])[3].std()\n",
    "# # print grouped3"
   ]
  },
  {
   "cell_type": "code",
   "execution_count": 5,
   "metadata": {},
   "outputs": [],
   "source": [
    "findata = pd.DataFrame()\n",
    "grouped = bigdata.groupby([0,1])\n",
    "sets = list(grouped.groups.keys())\n",
    "# sets = list(grouped.keys())\n",
    "for i in range (len(grouped)):\n",
    "    findata = findata.append(grouped.get_group(sets[i]),ignore_index=True)"
   ]
  },
  {
   "cell_type": "code",
   "execution_count": 6,
   "metadata": {},
   "outputs": [
    {
     "name": "stdout",
     "output_type": "stream",
     "text": [
      "1723\n"
     ]
    }
   ],
   "source": [
    "print (len(grouped))"
   ]
  },
  {
   "cell_type": "code",
   "execution_count": 7,
   "metadata": {},
   "outputs": [],
   "source": [
    "count = 0\n",
    "Rrms = []\n",
    "Zrms = []\n",
    "for i in range (len(grouped)):\n",
    "    cnum = 0\n",
    "    rsum = 0\n",
    "    zsum = 0\n",
    "    rmean = sets[i][0]\n",
    "    zmean = sets[i][1]\n",
    "    while ((findata[0][count]==rmean) and (findata[1][count]==zmean)):\n",
    "        rsum = rsum + (findata[2][count]-rmean)**2\n",
    "        zsum = zsum + (findata[3][count]-zmean)**2\n",
    "        count = count+1\n",
    "        cnum = cnum+1\n",
    "        if (count == len(findata)):\n",
    "            break\n",
    "        else:\n",
    "            continue\n",
    "    Rrms.append(math.sqrt(abs((rsum)/cnum-1)))\n",
    "    Zrms.append(math.sqrt(abs((zsum)/cnum-1)))"
   ]
  },
  {
   "cell_type": "code",
   "execution_count": null,
   "metadata": {},
   "outputs": [],
   "source": []
  },
  {
   "cell_type": "code",
   "execution_count": 8,
   "metadata": {},
   "outputs": [],
   "source": [
    "R_true = []\n",
    "Z_true = []\n",
    "for i in range (len(grouped)):\n",
    "    R_true.append(sets[i][0])\n",
    "    Z_true.append(sets[i][1])\n",
    "    "
   ]
  },
  {
   "cell_type": "code",
   "execution_count": 9,
   "metadata": {},
   "outputs": [],
   "source": [
    "hrRMS = ROOT.TH2F(\"hrRMS\",\"hrRMS\",33,0,33,51,0,51)\n",
    "hzRMS = ROOT.TH2F(\"hzRMS\",\"hzRMS\",33,0,33,51,0,51)\n",
    "h1XR = hrRMS.GetXaxis().GetBinWidth(1)\n",
    "h2YR = hrRMS.GetYaxis().GetBinWidth(1)\n",
    "h1XZ = hzRMS.GetXaxis().GetBinWidth(1)\n",
    "h2YZ = hzRMS.GetYaxis().GetBinWidth(1)\n",
    "\n",
    "for i in range (len(R_true)):\n",
    "    hrRMS.SetBinContent(int(R_true[i]/h1XR),int(Z_true[i]/h2YR),Rrms[i])\n",
    "    hzRMS.SetBinContent(int(R_true[i]/h1XZ),int(Z_true[i]/h2YZ),Zrms[i])"
   ]
  },
  {
   "cell_type": "code",
   "execution_count": 10,
   "metadata": {},
   "outputs": [
    {
     "data": {
      "image/png": "[encoded data removed]",
      "text/plain": [
       "<IPython.core.display.Image object>"
      ]
     },
     "metadata": {},
     "output_type": "display_data"
    }
   ],
   "source": [
    "hrRMS.Draw(\"colz\")\n",
    "c1.SetWindowSize(500,510);\n",
    "c1.SetCanvasSize(330,510);\n",
    "hrRMS.SetMaximum(20)\n",
    "hrRMS.SetMinimum(0)\n",
    "hrRMS.GetXaxis().SetLabelSize(0.06)\n",
    "hrRMS.GetYaxis().SetLabelSize(0.06)\n",
    "hrRMS.GetXaxis().SetTitleSize(444)\n",
    "hrRMS.GetYaxis().SetTitleSize(444)\n",
    "hrRMS.GetZaxis().SetLabelSize(0.05)\n",
    "hrRMS.SetStats(0)\n",
    "c1.SetRightMargin(0.2)\n",
    "c1.Draw()"
   ]
  },
  {
   "cell_type": "code",
   "execution_count": 11,
   "metadata": {},
   "outputs": [
    {
     "data": {
      "image/png": "[encoded data removed]",
      "text/plain": [
       "<IPython.core.display.Image object>"
      ]
     },
     "metadata": {},
     "output_type": "display_data"
    }
   ],
   "source": [
    "hzRMS.Draw(\"colz\")\n",
    "c1.SetWindowSize(500,510);\n",
    "c1.SetCanvasSize(330,510);\n",
    "hzRMS.SetMaximum(20)\n",
    "hzRMS.SetMinimum(0)\n",
    "hzRMS.GetXaxis().SetLabelSize(0.06)\n",
    "hzRMS.GetYaxis().SetLabelSize(0.06)\n",
    "hzRMS.GetXaxis().SetTitleSize(444)\n",
    "hzRMS.GetYaxis().SetTitleSize(444)\n",
    "hzRMS.GetZaxis().SetLabelSize(0.05)\n",
    "hzRMS.SetStats(0)\n",
    "c1.SetRightMargin(0.2)\n",
    "c1.Draw()"
   ]
  },
  {
   "cell_type": "code",
   "execution_count": null,
   "metadata": {},
   "outputs": [],
   "source": []
  }
 ],
 "metadata": {
  "kernelspec": {
   "display_name": "Python 3",
   "language": "python",
   "name": "python3"
  },
  "language_info": {
   "codemirror_mode": {
    "name": "ipython",
    "version": 3
   },
   "file_extension": ".py",
   "mimetype": "text/x-python",
   "name": "python",
   "nbconvert_exporter": "python",
   "pygments_lexer": "ipython3",
   "version": "3.8.8"
  }
 },
 "nbformat": 4,
 "nbformat_minor": 2
}
