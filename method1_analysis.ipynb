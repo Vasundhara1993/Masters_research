{
 "cells": [
  {
   "cell_type": "code",
   "execution_count": 1,
   "metadata": {},
   "outputs": [
    {
     "name": "stdout",
     "output_type": "stream",
     "text": [
      "Welcome to JupyROOT 6.22/02\n"
     ]
    },
    {
     "data": {
      "text/plain": [
       "0"
      ]
     },
     "execution_count": 1,
     "metadata": {},
     "output_type": "execute_result"
    }
   ],
   "source": [
    "import ROOT #Start by importing ROOT\n",
    "import numpy as np\n",
    "ROOT.enableJSVis() #need this to make interactive ROOT plots\n",
    "c1 = ROOT.TCanvas() #declare the ROOT canvas\n",
    "ROOT.gSystem.Load(\"/usr/local/software/quadis/build/lib/libquadis.so\")"
   ]
  },
  {
   "cell_type": "code",
   "execution_count": 2,
   "metadata": {},
   "outputs": [
    {
     "name": "stdout",
     "output_type": "stream",
     "text": [
      "45000\n"
     ]
    }
   ],
   "source": [
    "infile = ROOT.TFile(\"/home/vasu/quadis/build/bin/60kev-right/data33.root\")\n",
    "tree = infile.Get(\"T2\")\n",
    "num_files = tree.GetEntries()\n",
    "print (num_files)"
   ]
  },
  {
   "cell_type": "code",
   "execution_count": 3,
   "metadata": {},
   "outputs": [],
   "source": [
    "infile2 = ROOT.TFile(\"/home/vasu/PPC/PPC_SigGen/SignalLib_root/new_OutputRZperfect.root\")\n",
    "libtree = infile2.Get(\"T1\")\n",
    "nevent = ROOT.NEvent()\n",
    "libtree.SetBranchAddress(\"NEvent\",nevent)\n",
    "\n",
    "rtrue = np.zeros(num_files)\n",
    "ztrue = np.zeros(num_files)\n",
    "ravg = np.zeros(num_files)\n",
    "zavg = np.zeros(num_files)\n",
    "R_new = np.zeros(num_files)\n",
    "Z_new = np.zeros(num_files)\n",
    "rbest = np.zeros(10)\n",
    "zbest = np.zeros(10)\n",
    "ind = 0\n",
    "\n",
    "vector_chi = ROOT.std.vector('vector<double>')()\n",
    "tree.SetBranchAddress(\"blrPulse_Chis\", vector_chi)\n",
    "vector_R = ROOT.std.vector('double')()\n",
    "tree.SetBranchAddress(\"R\", vector_R)\n",
    "vector_Z = ROOT.std.vector('double')()\n",
    "tree.SetBranchAddress(\"Z\", vector_Z)\n",
    "for i in range (num_files):\n",
    "    tree.GetEntry(i)\n",
    "    rtrue[i] = vector_R[0]\n",
    "    ztrue[i] = vector_Z[0]\n",
    "    ordered_index = np.argsort(vector_chi[0])\n",
    "    for k in range (10):\n",
    "        libtree.GetEntry(ordered_index[k])\n",
    "        rbest[k] = nevent.GetPulseData(1).GetParameterByName(\"R\")\n",
    "        zbest[k] = nevent.GetPulseData(1).GetParameterByName(\"Z\")\n",
    "    ravg[i] = np.mean(rbest)\n",
    "    zavg[i] = np.mean(zbest)\n",
    "    R_new[i] = (rtrue[i]-ravg[i])\n",
    "    Z_new[i] = (ztrue[i]-zavg[i])\n",
    "    "
   ]
  },
  {
   "cell_type": "code",
   "execution_count": 4,
   "metadata": {},
   "outputs": [
    {
     "name": "stderr",
     "output_type": "stream",
     "text": [
      "Warning in <TFile::Append>: Replacing existing TH1: hr (Potential memory leak).\n",
      "Warning in <TFile::Append>: Replacing existing TH1: hz (Potential memory leak).\n",
      "Warning in <TFile::Append>: Replacing existing TH1: hr (Potential memory leak).\n",
      "Warning in <TFile::Append>: Replacing existing TH1: hz (Potential memory leak).\n",
      "Warning in <TFile::Append>: Replacing existing TH1: hr (Potential memory leak).\n",
      "Warning in <TFile::Append>: Replacing existing TH1: hz (Potential memory leak).\n",
      "Warning in <TFile::Append>: Replacing existing TH1: hr (Potential memory leak).\n",
      "Warning in <TFile::Append>: Replacing existing TH1: hz (Potential memory leak).\n",
      "Warning in <TFile::Append>: Replacing existing TH1: hr (Potential memory leak).\n",
      "Warning in <TFile::Append>: Replacing existing TH1: hz (Potential memory leak).\n",
      "Warning in <TFile::Append>: Replacing existing TH1: hr (Potential memory leak).\n",
      "Warning in <TFile::Append>: Replacing existing TH1: hz (Potential memory leak).\n",
      "Warning in <TFile::Append>: Replacing existing TH1: hr (Potential memory leak).\n",
      "Warning in <TFile::Append>: Replacing existing TH1: hz (Potential memory leak).\n",
      "Warning in <TFile::Append>: Replacing existing TH1: hr (Potential memory leak).\n",
      "Warning in <TFile::Append>: Replacing existing TH1: hz (Potential memory leak).\n",
      "Warning in <TFile::Append>: Replacing existing TH1: hr (Potential memory leak).\n",
      "Warning in <TFile::Append>: Replacing existing TH1: hz (Potential memory leak).\n",
      "Warning in <TFile::Append>: Replacing existing TH1: hr (Potential memory leak).\n",
      "Warning in <TFile::Append>: Replacing existing TH1: hz (Potential memory leak).\n",
      "Warning in <TFile::Append>: Replacing existing TH1: hr (Potential memory leak).\n",
      "Warning in <TFile::Append>: Replacing existing TH1: hz (Potential memory leak).\n",
      "Warning in <TFile::Append>: Replacing existing TH1: hr (Potential memory leak).\n",
      "Warning in <TFile::Append>: Replacing existing TH1: hz (Potential memory leak).\n",
      "Warning in <TFile::Append>: Replacing existing TH1: hr (Potential memory leak).\n",
      "Warning in <TFile::Append>: Replacing existing TH1: hz (Potential memory leak).\n",
      "Warning in <TFile::Append>: Replacing existing TH1: hr (Potential memory leak).\n",
      "Warning in <TFile::Append>: Replacing existing TH1: hz (Potential memory leak).\n",
      "Warning in <TFile::Append>: Replacing existing TH1: hr (Potential memory leak).\n",
      "Warning in <TFile::Append>: Replacing existing TH1: hz (Potential memory leak).\n",
      "Warning in <TFile::Append>: Replacing existing TH1: hr (Potential memory leak).\n",
      "Warning in <TFile::Append>: Replacing existing TH1: hz (Potential memory leak).\n",
      "Warning in <TFile::Append>: Replacing existing TH1: hr (Potential memory leak).\n",
      "Warning in <TFile::Append>: Replacing existing TH1: hz (Potential memory leak).\n",
      "Warning in <TFile::Append>: Replacing existing TH1: hr (Potential memory leak).\n",
      "Warning in <TFile::Append>: Replacing existing TH1: hz (Potential memory leak).\n",
      "Warning in <TFile::Append>: Replacing existing TH1: hr (Potential memory leak).\n",
      "Warning in <TFile::Append>: Replacing existing TH1: hz (Potential memory leak).\n",
      "Warning in <TFile::Append>: Replacing existing TH1: hr (Potential memory leak).\n",
      "Warning in <TFile::Append>: Replacing existing TH1: hz (Potential memory leak).\n",
      "Warning in <TFile::Append>: Replacing existing TH1: hr (Potential memory leak).\n",
      "Warning in <TFile::Append>: Replacing existing TH1: hz (Potential memory leak).\n",
      "Warning in <TFile::Append>: Replacing existing TH1: hr (Potential memory leak).\n",
      "Warning in <TFile::Append>: Replacing existing TH1: hz (Potential memory leak).\n",
      "Warning in <TFile::Append>: Replacing existing TH1: hr (Potential memory leak).\n",
      "Warning in <TFile::Append>: Replacing existing TH1: hz (Potential memory leak).\n",
      "Warning in <TFile::Append>: Replacing existing TH1: hr (Potential memory leak).\n",
      "Warning in <TFile::Append>: Replacing existing TH1: hz (Potential memory leak).\n",
      "Warning in <TFile::Append>: Replacing existing TH1: hr (Potential memory leak).\n",
      "Warning in <TFile::Append>: Replacing existing TH1: hz (Potential memory leak).\n",
      "Warning in <TFile::Append>: Replacing existing TH1: hr (Potential memory leak).\n",
      "Warning in <TFile::Append>: Replacing existing TH1: hz (Potential memory leak).\n",
      "Warning in <TFile::Append>: Replacing existing TH1: hr (Potential memory leak).\n",
      "Warning in <TFile::Append>: Replacing existing TH1: hz (Potential memory leak).\n",
      "Warning in <TFile::Append>: Replacing existing TH1: hr (Potential memory leak).\n",
      "Warning in <TFile::Append>: Replacing existing TH1: hz (Potential memory leak).\n",
      "Warning in <TFile::Append>: Replacing existing TH1: hr (Potential memory leak).\n",
      "Warning in <TFile::Append>: Replacing existing TH1: hz (Potential memory leak).\n",
      "Warning in <TFile::Append>: Replacing existing TH1: hr (Potential memory leak).\n",
      "Warning in <TFile::Append>: Replacing existing TH1: hz (Potential memory leak).\n",
      "Warning in <TFile::Append>: Replacing existing TH1: hr (Potential memory leak).\n",
      "Warning in <TFile::Append>: Replacing existing TH1: hz (Potential memory leak).\n",
      "Warning in <TFile::Append>: Replacing existing TH1: hr (Potential memory leak).\n",
      "Warning in <TFile::Append>: Replacing existing TH1: hz (Potential memory leak).\n",
      "Warning in <TFile::Append>: Replacing existing TH1: hr (Potential memory leak).\n",
      "Warning in <TFile::Append>: Replacing existing TH1: hz (Potential memory leak).\n",
      "Warning in <TFile::Append>: Replacing existing TH1: hr (Potential memory leak).\n",
      "Warning in <TFile::Append>: Replacing existing TH1: hz (Potential memory leak).\n",
      "Warning in <TFile::Append>: Replacing existing TH1: hr (Potential memory leak).\n",
      "Warning in <TFile::Append>: Replacing existing TH1: hz (Potential memory leak).\n",
      "Warning in <TFile::Append>: Replacing existing TH1: hr (Potential memory leak).\n",
      "Warning in <TFile::Append>: Replacing existing TH1: hz (Potential memory leak).\n",
      "Warning in <TFile::Append>: Replacing existing TH1: hr (Potential memory leak).\n",
      "Warning in <TFile::Append>: Replacing existing TH1: hz (Potential memory leak).\n",
      "Warning in <TFile::Append>: Replacing existing TH1: hr (Potential memory leak).\n",
      "Warning in <TFile::Append>: Replacing existing TH1: hz (Potential memory leak).\n",
      "Warning in <TFile::Append>: Replacing existing TH1: hr (Potential memory leak).\n",
      "Warning in <TFile::Append>: Replacing existing TH1: hz (Potential memory leak).\n",
      "Warning in <TFile::Append>: Replacing existing TH1: hr (Potential memory leak).\n",
      "Warning in <TFile::Append>: Replacing existing TH1: hz (Potential memory leak).\n",
      "Warning in <TFile::Append>: Replacing existing TH1: hr (Potential memory leak).\n",
      "Warning in <TFile::Append>: Replacing existing TH1: hz (Potential memory leak).\n",
      "Warning in <TFile::Append>: Replacing existing TH1: hr (Potential memory leak).\n",
      "Warning in <TFile::Append>: Replacing existing TH1: hz (Potential memory leak).\n",
      "Warning in <TFile::Append>: Replacing existing TH1: hr (Potential memory leak).\n",
      "Warning in <TFile::Append>: Replacing existing TH1: hz (Potential memory leak).\n",
      "Warning in <TFile::Append>: Replacing existing TH1: hr (Potential memory leak).\n",
      "Warning in <TFile::Append>: Replacing existing TH1: hz (Potential memory leak).\n"
     ]
    }
   ],
   "source": [
    "Rrms = []\n",
    "Zrms = []\n",
    "for i in range (num_files):\n",
    "    if ((i%1000)==0):\n",
    "        hr = ROOT.TH1D(\"hr\",\"hr\",67,-33,34)\n",
    "        hz = ROOT.TH1D(\"hz\",\"hz\",103,-51,52)\n",
    "        for j in range (1000):\n",
    "            hr.Fill(R_new[i+j])\n",
    "            hz.Fill(Z_new[i+j])\n",
    "        Rrms.append(hr.GetStdDev())\n",
    "        Zrms.append(hz.GetStdDev())\n",
    "        hr.Reset()\n",
    "        hz.Reset()"
   ]
  },
  {
   "cell_type": "code",
   "execution_count": 5,
   "metadata": {},
   "outputs": [],
   "source": [
    "R0 = np.zeros(int(num_files/1000), dtype = 'int')\n",
    "Z0 = np.zeros(int(num_files/1000), dtype = 'int')\n",
    "\n",
    "for i in range (len(rtrue)):\n",
    "    if ((i%1000)==0):\n",
    "        val = int(i/1000)\n",
    "        R0[val] = rtrue[i]\n",
    "        Z0[val] = ztrue[i]"
   ]
  },
  {
   "cell_type": "code",
   "execution_count": 6,
   "metadata": {},
   "outputs": [],
   "source": [
    "f1 = open('/home/vasu/PPC/PPC_SigGen/arrays/60kev-right/data33','w')\n",
    "for i in range (len(Rrms)):\n",
    "    f1.write(str(R0[i]))\n",
    "    f1.write('\\t')\n",
    "    f1.write(str(Rrms[i]))\n",
    "    f1.write('\\t')\n",
    "    f1.write(str(Z0[i]))\n",
    "    f1.write('\\t')\n",
    "    f1.write(str(Zrms[i]))\n",
    "    f1.write('\\n')\n",
    "f1.close()"
   ]
  },
  {
   "cell_type": "code",
   "execution_count": null,
   "metadata": {},
   "outputs": [],
   "source": []
  },
  {
   "cell_type": "code",
   "execution_count": null,
   "metadata": {},
   "outputs": [],
   "source": []
  }
 ],
 "metadata": {
  "kernelspec": {
   "display_name": "Python 3",
   "language": "python",
   "name": "python3"
  },
  "language_info": {
   "codemirror_mode": {
    "name": "ipython",
    "version": 3
   },
   "file_extension": ".py",
   "mimetype": "text/x-python",
   "name": "python",
   "nbconvert_exporter": "python",
   "pygments_lexer": "ipython3",
   "version": "3.8.8"
  }
 },
 "nbformat": 4,
 "nbformat_minor": 2
}
